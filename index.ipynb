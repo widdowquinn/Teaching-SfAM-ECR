{
 "cells": [
  {
   "cell_type": "markdown",
   "metadata": {},
   "source": [
    "<img src=\"images/JHI_STRAP_Web.png\" style=\"width: 150px; float: right;\">\n",
    "# SfAM ECS 2017 Presentation and Workshop"
   ]
  },
  {
   "cell_type": "markdown",
   "metadata": {},
   "source": [
    "## Table of Contents\n",
    "\n",
    "1. [Introduction](#introduction)\n",
    "2. [Schedule](#schedule)\n",
    "3. [Presentations](#presentations)\n",
    "4. [Workshop Notebooks](#notebooks)\n",
    "5. [Run Workshop in the Cloud on MyBinder](#mybinder)\n",
    "6. [Run Workshop on Your Own Machine](#local)"
   ]
  },
  {
   "cell_type": "markdown",
   "metadata": {},
   "source": [
    "<a id=\"introduction\"></a>\n",
    "## Introduction\n",
    "Welcome to the \"Not All Bioinformatics is NGS\" part of the SfAM ECS symposium. This document describes the contents of this repository, provides useful links, and instructions for how to reproduce the workshop materials on your own machine, or run them in the cloud."
   ]
  },
  {
   "cell_type": "markdown",
   "metadata": {},
   "source": [
    "<a id=\"schedule\"></a>\n",
    "## Schedule\n",
    "\n",
    "* [[poster]](posters/SfAM_Bioinformatics_A4.pdf)\n",
    "\n",
    "| Time          | Activity                                         |\n",
    "| ------------- | ------------------------------------------------ |\n",
    "| 10:00 - 11:00 | Registration                                     |\n",
    "| 10:30 - 11:00 | Posters & Refreshments                           |\n",
    "| 11:00 - 12:00 | Student oral presentations (4x 15 min slots)     |\n",
    "| 12:00 - 13:00 | Introduction to Bioinformatics (2x 30 min slots) |\n",
    "| 13:00 - 14:00 | Posters, Exhibitions, and Lunch                  |\n",
    "| 14:00 - 15:30 | Workshop 1                                       |\n",
    "| 15:30 - 16:00 | Posters & Refreshments                           |\n",
    "| 16:00 - 17:30 | Workshop 2                                       |\n",
    "| 17:30 - 18:00 | Conference Close (Prizes & Networking)           |"
   ]
  },
  {
   "cell_type": "markdown",
   "metadata": {},
   "source": [
    "<a id=\"presentations\"></a>\n",
    "# Presentations\n",
    "\n",
    "The links below will take you to the presentations in an interactive form, in your browser.\n",
    "\n",
    "* [Reproducible Research](http://presentations/slides01-reproducible_research.html)"
   ]
  },
  {
   "cell_type": "markdown",
   "metadata": {},
   "source": [
    "<a id=\"notebooks\"></a>\n",
    "# Workshop Notebooks\n",
    "\n",
    "The links below will take you to the workshop notebooks in static form, in your browser.\n",
    "\n",
    "* [**00 - Introduction to Jupyter**](workshop/00-jupyter_intro.ipynb)\n",
    "* [**01 - Thinking Statistically**](workshop/01-thinking_statistically.ipynb)\n",
    "* [**02 - Automation**](workshop/02-automation.ipynb)\n",
    "* [**03 - Integrating Data**](workshop/03-integrating_data.ipynb)"
   ]
  },
  {
   "cell_type": "markdown",
   "metadata": {},
   "source": [
    "<a id=\"mybinder\"></a>\n",
    "## Run Workshop in the Cloud on MyBinder\n",
    "\n",
    "MyBinder is a cloud-based service that allows you to run Jupyter notebooks on someone else's hardware. This course is provided as interactive notebooks *via* this service, and you can start up an instance by clicking on the button below:\n",
    "\n",
    "[![Binder](http://mybinder.org/badge.svg)](http://mybinder.org/repo/widdowquinn/teaching-sfam-ecr)\n",
    "\n",
    "This approach has the advantage that it requires no further configuration: all materials and tools are pre-installed, and ready to go."
   ]
  },
  {
   "cell_type": "markdown",
   "metadata": {},
   "source": [
    "<a id=\"local\"></a>\n",
    "## Run Workshop on Your Own Machine\n",
    "\n",
    "Setting up the course materials to run on your own machine involves following stages, which will be described one-by-one below:\n",
    "\n",
    "1. Clone the repository\n",
    "2. Ensure the bioinformatics package prerequisites are installed\n",
    "3. Create a virtual environment for the Jupyter notebooks\n",
    "\n",
    "To install and run these materials locally, you will require:\n",
    "\n",
    "* The Anaconda Python distribution [[download]](https://www.continuum.io/downloads)\n",
    "\n",
    "### Download the materials\n",
    "\n",
    "The materials are available for download at the links below:\n",
    "\n",
    "* [`.zip` file]()\n",
    "* [GitHub Repository](https://github.com/widdowquinn/Teaching-SfAM-ECS)\n",
    "\n",
    "Download the compressed (`.zip`) file to a suitable location and unpack it. This will place the materials in a subdirectory called `Teaching-SfAM-ECR`. \n",
    "\n",
    "### Run the materials"
   ]
  },
  {
   "cell_type": "code",
   "execution_count": null,
   "metadata": {
    "collapsed": true
   },
   "outputs": [],
   "source": []
  }
 ],
 "metadata": {
  "kernelspec": {
   "display_name": "Python 3 (SfAM)",
   "language": "python",
   "name": "python3_sfam"
  },
  "language_info": {
   "codemirror_mode": {
    "name": "ipython",
    "version": 3
   },
   "file_extension": ".py",
   "mimetype": "text/x-python",
   "name": "python",
   "nbconvert_exporter": "python",
   "pygments_lexer": "ipython3",
   "version": "3.6.0"
  }
 },
 "nbformat": 4,
 "nbformat_minor": 2
}
