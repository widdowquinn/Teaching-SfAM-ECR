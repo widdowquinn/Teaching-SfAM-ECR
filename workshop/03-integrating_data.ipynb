{
 "cells": [
  {
   "cell_type": "markdown",
   "metadata": {},
   "source": [
    "<img src=\"images/JHI_STRAP_Web.png\" style=\"width: 150px; float: right;\">\n",
    "# 03 - Integrating Data As A Reproducible Document (30min)"
   ]
  },
  {
   "cell_type": "markdown",
   "metadata": {},
   "source": [
    "## Table of Contents\n",
    "\n",
    "1. [Introduction](#introduction)\n",
    "2. [Building a Reproducible Document](#building)\n",
    "3. [An Example Reproducible Document](#example)"
   ]
  },
  {
   "cell_type": "markdown",
   "metadata": {},
   "source": [
    "<a id=\"introduction\"></a>\n",
    "## Introduction\n",
    "\n",
    "<p></p><div class=\"alert-success\">\n",
    "<b>Much of practical bioinformatics and computational biology involves the management, integration, and understanding of data.</b>\n",
    "</div>\n",
    "\n",
    "These data can come from a wide range of local and online resources, and it can often be tricky to collate and integrate that data into one place, and present it coherently to colleagues (you may have seen lab books with printouts of `BLAST` searches pasted into the pages). This is one area where reproducible research, and the use of interactive notebooks such as these can make your life much easier.\n",
    "\n",
    "By performing data retrieval, analysis, and integration in a live document with explanatory text and the *actual code* that was used to perform the work, you can share these notebooks in the knowledge that your work is reproducible and accurately documented.\n",
    "\n",
    "In this part of the workshop, we will go thrugh the process of building a reproducible document from scratch, to:\n",
    "\n",
    "1. acquire a protein sequence from a local file\n",
    "2. build a custom `BLAST` database\n",
    "3. `BLAST` your protein query against this custom database\n",
    "4. get information about the molecular function of your sequence from the `UniProt` database\n",
    "5. get information about the metabolic function of your sequence from the `KEGG` database\n",
    "6. visualise information about your results using `seaborn`"
   ]
  },
  {
   "cell_type": "markdown",
   "metadata": {},
   "source": [
    "<a id=\"building\"></a>\n",
    "## 2. Building a Reproducible Document (30min)\n",
    "\n",
    "Please click on the link below to start the `Building a Reproducible Document` notebook.\n",
    "\n",
    "* [03a-building](03a-building.ipynb)"
   ]
  },
  {
   "cell_type": "markdown",
   "metadata": {},
   "source": [
    "<a id=\"example\"></a>\n",
    "## 3. An Example Reproducible Document\n",
    "\n",
    "Please click on the link below to start the `An Example Reproducible Document` notebook.\n",
    "\n",
    "* [03b-example](03b-example.ipynb)\n",
    "\n",
    "<p></p><div class=\"alert-info\">\n",
    "This notebook is an example of what could be produced in the `Building a Reproducible Document` notebook.\n",
    "</div>"
   ]
  },
  {
   "cell_type": "code",
   "execution_count": null,
   "metadata": {
    "collapsed": true
   },
   "outputs": [],
   "source": []
  }
 ],
 "metadata": {
  "kernelspec": {
   "display_name": "Python 3 (SfAM)",
   "language": "python",
   "name": "python3_sfam"
  },
  "language_info": {
   "codemirror_mode": {
    "name": "ipython",
    "version": 3
   },
   "file_extension": ".py",
   "mimetype": "text/x-python",
   "name": "python",
   "nbconvert_exporter": "python",
   "pygments_lexer": "ipython3",
   "version": "3.6.0"
  }
 },
 "nbformat": 4,
 "nbformat_minor": 2
}
