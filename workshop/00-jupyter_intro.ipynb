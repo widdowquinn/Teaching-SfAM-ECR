{
 "cells": [
  {
   "cell_type": "markdown",
   "metadata": {},
   "source": [
    "<img src=\"images/JHI_STRAP_Web.png\" style=\"width: 150px; float: right;\">\n",
    "# 00 - Introduction to Jupyter Notebook (20min)"
   ]
  },
  {
   "cell_type": "markdown",
   "metadata": {},
   "source": [
    "## Table of Contents\n",
    "\n",
    "1. [Introduction](#introduction)\n",
    "2. [Notebook Structure](#structure)\n",
    "  1. Notebook Toolbar\n",
    "  2. Notebook Space\n",
    "3. [Cells and Cell Types](#cells)\n",
    "2. [Navigating a Notebook](#navigating)\n",
    "  1. Selecting a Cell\n",
    "  2. Creating a Cell\n",
    "  3. Help and Keyboard Shortcuts\n",
    "4. [Markdown](#markdown)\n",
    "5. [Python](#python)\n",
    "6. [Saving a Notebook](#saving)\n",
    "7. [Creating a New Notebook](#creating)"
   ]
  },
  {
   "cell_type": "markdown",
   "metadata": {},
   "source": [
    "<a id=\"introduction\"></a>\n",
    "# 1. Introduction\n",
    "\n",
    "<p></p><div class=\"alert-success\">\n",
    "<b>This notebook will guide you through some of the basic operations of a Jupyter Python notebook, such as:</b>\n",
    "</div>\n",
    "\n",
    "* Notebook structure\n",
    "* Cells and cell types\n",
    "* Navigating a notebook\n",
    "* What is `Markdown`?\n",
    "* Entering `Markdown` text.\n",
    "* Entering `Python` code\n",
    "* Saving a notebook\n",
    "\n",
    "The cell below contains some formatting code - you can ignore this."
   ]
  },
  {
   "cell_type": "markdown",
   "metadata": {},
   "source": [
    "<a id=\"structure\"></a>\n",
    "# 2. Notebook structure\n",
    "\n",
    "<p></p><div class=\"alert-success\">\n",
    "<b>A Jupyter notebook can be considered as being divided into two main parts - the toolbar, and the notebook space.</b>\n",
    "</div>"
   ]
  },
  {
   "cell_type": "markdown",
   "metadata": {},
   "source": [
    "## Notebook Toolbar\n",
    "\n",
    "The notebook toolbar is found at the top of the notebook:\n",
    "\n",
    "![Jupyter notebook toolbar](images/notebook_toolbar.png)\n",
    "\n",
    "At the top left of the toolbar is a logo for the Jupyter project, and the filename of the current notebook (clicking on this allows you to change the notebook's file name). There is also some information about the last time the document was saved or *checkpoint*ed.\n",
    "\n",
    "At the top right of the toolbar is a logo for `Python` (the current language of the notebook), and a button which, if clicked, will log you out.\n",
    "\n",
    "Below this is a menu bar which should remind you of other programs, such as Microsoft Word, or Apple Pages. \n",
    "\n",
    "![Jupyter notebook menubar](images/notebook_menubar.png)\n",
    "\n",
    "This provides operations such as saving or loading files, modifying components of the notebook, or even changing the programming language that is to be used by the notebook (the `Kernel` option). Some of these menu bar options are repeated as shortcuts in the icons of the bottom row of the toolbar.\n",
    "\n",
    "On the right, there is some information about the notebook.\n",
    "\n",
    "![Jupyter notebook info](images/notebook_info.png)\n",
    "\n",
    "In the image above, this tells us first that the security connection to the notebook is `trusted`, then the pencil icon indicates that we are in `editing` mode. Finally, the current kernel (`Python 3 (SfAM)`) is named."
   ]
  },
  {
   "cell_type": "markdown",
   "metadata": {},
   "source": [
    "## Notebook Space\n",
    "\n",
    "Below the toolbar is all the text and information, and `Python` code, of the notebook itself. This is the *notebook space*."
   ]
  },
  {
   "cell_type": "markdown",
   "metadata": {},
   "source": [
    "<a id=\"cells\"></a>\n",
    "# 3. Cells and Cell Types\n",
    "\n",
    "<p></p><div class=\"alert-success\">\n",
    "<b>Jupyter notebooks are built from <i>cell</i>s. A <i>cell</i> is an individual part of the notebook that can be run, or <i>executed</i> in isolation.</b>\n",
    "</div>"
   ]
  },
  {
   "cell_type": "markdown",
   "metadata": {},
   "source": [
    "*Cell*s can be one of several types - the two main types are `Code` and `Markdown`. These are treated differently in the notebook:\n",
    "\n",
    "* `Markdown` cells contain text to be read by a human, such as this description of a `Markdown` cell. They can be formatted nicely, like a word-processing document.\n",
    "* `Code` cells contain programming code (for this workshop it will be `Python`), which will be run by the computer. The code can also be nicely-formatted, as in the cells below."
   ]
  },
  {
   "cell_type": "code",
   "execution_count": 1,
   "metadata": {
    "collapsed": true
   },
   "outputs": [],
   "source": [
    "# This is some example Python code, so we can see a code cell\n",
    "\n",
    "def hello_world():\n",
    "    \"\"\"Say 'hello world'\"\"\"\n",
    "    print(\"Hello World!\")"
   ]
  },
  {
   "cell_type": "code",
   "execution_count": 2,
   "metadata": {},
   "outputs": [
    {
     "data": {
      "text/plain": [
       "45"
      ]
     },
     "execution_count": 2,
     "metadata": {},
     "output_type": "execute_result"
    }
   ],
   "source": [
    "# This is more example Python code, to have a code cell with output\n",
    "\n",
    "count = 0\n",
    "for i in range(10):\n",
    "    count = count + i\n",
    "    \n",
    "# Show count as output\n",
    "count"
   ]
  },
  {
   "cell_type": "markdown",
   "metadata": {},
   "source": [
    "`Markdown` cells look just like regularly-formatted text, but `code` cells have markers at the left-hand side, indicating whether they are *input* (`In []:`) or *output* (`Out []:`) cells.\n",
    "\n",
    "*Input* cells are where code can be typed and executed. *Output* cells show the corresponding output from that code. You can edit input cells, but not output cells."
   ]
  },
  {
   "cell_type": "markdown",
   "metadata": {},
   "source": [
    "Code cell markers also come with a number, e.g. `In [2]:` and `Out [2]:`. This number indicates the order in which cells were run/*executed*.\n",
    "\n",
    "<p></p><div class=\"alert-warning\">\n",
    "<b>It is possible for code cells to be run in a different order than top-to-bottom in the notebook!</b>\n",
    "</div>"
   ]
  },
  {
   "cell_type": "markdown",
   "metadata": {},
   "source": [
    "<a id=\"navigating\"></a>\n",
    "# 4. Navigating a notebook\n",
    "\n",
    "A Jupyter notebook can be read like a webpage - **this makes it very useful for sharing annotated code and analyses**.\n",
    "\n",
    "However, notebooks are also interactive: you can edit and execute individual cells in any order you like - **this makes them very useful for exploring data and experimenting with code**."
   ]
  },
  {
   "cell_type": "markdown",
   "metadata": {},
   "source": [
    "## Selecting a cell\n",
    "\n",
    "<p></p><div class=\"alert-success\">\n",
    "<b>To select on a cell, click on it.</b>\n",
    "</div>\n",
    "\n",
    "* When you click on a cell, it will be surrounded by a **green** border if it is in *edit* mode (i.e. you can change the contents), or a **blue** border if you cannot currently edit it.\n",
    "\n",
    "* You can move from cell to cell using the up- and down-arrow keys\n",
    "\n",
    "* When you first select a `Markdown` cell, the border will be blue. To put a `Markdown` cell into *edit* mode, double-click on it.\n",
    "\n",
    "<img src=\"images/exercise.png\" style=\"width: 50px; float: left;\">\n",
    "### Exercise: Edit a `Markdown` cell\n",
    "\n",
    "<p></p><div class=\"alert-danger\">\n",
    "<b>Edit some text in the `Markdown` cell, below.</b>\n",
    "<p></p>\n",
    "<b>When you are finished editing, <i>execute</i> the cell by pressing `Shift-Enter`</b>\n",
    "</div>"
   ]
  },
  {
   "cell_type": "markdown",
   "metadata": {},
   "source": [
    "#### This is a `Markdown` cell to be edited as part of an exercise\n",
    "\n",
    "Please edit me. I exist only for you to hack and slash at my text until it is in the shape *you want*. You can experiment with lists of things, like:\n",
    "\n",
    "* this thing\n",
    "* that thing\n",
    "* the other thing\n",
    "\n",
    "Or you can *italicise* me. Or make me **bold**."
   ]
  },
  {
   "cell_type": "markdown",
   "metadata": {},
   "source": [
    "## Creating a cell\n",
    "\n",
    "A new cell can be created in two main ways:\n",
    "\n",
    "1. Using the `+` toolbar icon. This will insert a new cell below the currently selected cell\n",
    "2. Using the `Insert -> Insert Cell Above` or `Insert -> Insert Cell Below` menu option; this can create a cell below or above the currently selected cell.\n",
    "\n",
    "When you first create a cell, Jupyter will assume that you want a `Code` cell. This will be shown in the toolbar at the top of the page.\n",
    "\n",
    "To change the cell type to `Markdown`, you can click on the *dropdown* box marked `Code` and select `Markdown`.\n",
    "\n",
    "<img src=\"images/exercise.png\" style=\"width: 50px; float: left;\">\n",
    "### Exercise: Create a new cell\n",
    "\n",
    "<p></p><div class=\"alert-danger\">\n",
    "<b>Using any of the methods described above, create a new `Markdown` cell below <i>this</i> cell, and enter some text.</b>\n",
    "</div>"
   ]
  },
  {
   "cell_type": "markdown",
   "metadata": {
    "collapsed": true
   },
   "source": [
    "## Help and Keyboard Shortcuts\n",
    "\n",
    "<p></p><div class=\"alert-success\">\n",
    "<b>When you are not editing a cell, you can use many keyboard shortcuts</b>\n",
    "</div>\n",
    "\n",
    "* To bring up the keyboard shortcuts/help menu, hit the **h** key.\n",
    "\n",
    "![Jupyter notebook help/shortcut menu](images/notebook_shortcuts.png)"
   ]
  },
  {
   "cell_type": "markdown",
   "metadata": {},
   "source": [
    "<a id=\"markdown\"></a>\n",
    "# 5. Markdown\n",
    "\n",
    "<p></p><div class=\"alert-success\">\n",
    "<b>`Markdown` is a way of formatting text, just like a word processor, but using special symbols to indicate formatting</b>\n",
    "</div>\n",
    "\n",
    "Jupyter notebooks are a very good way to write *literate code*, to enable *reproducible research*, because they make it easier to write a combination of explanatory text and working code in the same document.\n",
    "\n",
    "<p></p><div class=\"alert-warning\">\n",
    "In Jupyter notebooks, the `Markdown` formatting syntax is used to make text more presentable for reading.\n",
    "</div>\n",
    "\n",
    "* `Markdown` is widely-used in bioinformatics/computing communities\n",
    "* `Markdown` comes in many 'flavours', but has a shared common core set of formatting instructions\n",
    "* `Markdown` is plain text, and can be read by humans, even if it is not interpreted/foramtted by a computer\n",
    "* A sinlge document written in `Markdown` can be interpreted and rendered as an HTML webpage, an MS Word documents, a PDF file, and so on - *write once, render in many formats*"
   ]
  },
  {
   "cell_type": "markdown",
   "metadata": {},
   "source": [
    "## Markdown formatting examples\n",
    "\n",
    "### 1. Headers\n",
    "\n",
    "<p></p><div class=\"alert-success\">\n",
    "Headers start with one or more hash symbols (`#`) on a new line:\n",
    "</div>\n",
    "\n",
    "```markdown\n",
    "# Header 1\n",
    "## Header 2\n",
    "### Header 3\n",
    "#### Header 4\n",
    "```\n",
    "\n",
    "which renders as:\n",
    "\n",
    "# Header 1\n",
    "## Header 2\n",
    "### Header 3\n",
    "#### Header 4\n",
    "\n",
    "### 2. Bold and Italic\n",
    "\n",
    "<p></p><div class=\"alert-success\">\n",
    "**Bold** and *italic* (or ***bold-italic***) are obtained by wrapping text in asterisks:\n",
    "</div>\n",
    "\n",
    "```markdown\n",
    "*italic*\n",
    "**bold**\n",
    "***bold-italic***\n",
    "```\n",
    "\n",
    "### 3. Lists\n",
    "\n",
    "<p></p><div class=\"alert-success\">\n",
    "<b>Lists are indicated with asterisks - one for each list entry</b>\n",
    "</div>\n",
    "\n",
    "```markdown\n",
    "* Item 1\n",
    "* Item 2\n",
    "  * Nested item 1\n",
    "  * Nested item 2\n",
    "* Item 3\n",
    "```\n",
    "\n",
    "renders as\n",
    "\n",
    "* Item 1\n",
    "* Item 2\n",
    "  * Nested item 1\n",
    "  * Nested item 2\n",
    "* Item 3\n",
    "\n",
    "### 4. Links to Webpages\n",
    "\n",
    "<p></p><div class=\"alert-success\">\n",
    "<b>Hyperlinks (e.g. to data or other useful information) are indicated by square-bracketing the text of the link, and putting the URL in parentheses:</b>\n",
    "</div>\n",
    "\n",
    "```markdown\n",
    "* [Search on Google](http://www.google.com)\n",
    "```\n",
    "\n",
    "* [Search on Google](http://www.google.com)"
   ]
  },
  {
   "cell_type": "markdown",
   "metadata": {},
   "source": [
    "<img src=\"images/exercise.png\" style=\"width: 50px; float: left;\">\n",
    "### Exercise: Practise Some Markdown\n",
    "\n",
    "<p></p><div class=\"alert-danger\">\n",
    "<b>Create a new `Markdown` cell below, and try out some formatting.</b>\n",
    "</div>"
   ]
  },
  {
   "cell_type": "markdown",
   "metadata": {},
   "source": [
    "<a id=\"python\"></a>\n",
    "# 6. `Python`\n",
    "\n",
    "<p></p><div class=\"alert-success\">\n",
    "<b>`Python` is a popular and relatively easy-to-learn programming language, widely-used in bioinformatics</b>\n",
    "</div>\n",
    "\n",
    "One of the main principles of bioinformatics is *automation* - letting the computer do all the repetitive, finicky work, so that you - the scientist - can concentrate on the science.\n",
    "\n",
    "To instruct the computer to do all that tedious, repetitive work for you, it can be useful to develop some programming skills. Python is widely-used, relatively easy to learn, and comes with a number of highly-useful *libraries* that are designed for bioinformatics work. \n",
    "\n",
    "We will use `Python` to demonstrate how useful it can be to automate bioinformatics tasks, in this workshop.\n",
    "\n",
    "<p></p><div class=\"alert-warning\">\n",
    "<b>You can get a remarkably long way, with only a little programming knowledge, in bioinformatics.</b>\n",
    "</div>"
   ]
  },
  {
   "cell_type": "markdown",
   "metadata": {},
   "source": [
    "## Running `Python` Code\n",
    "\n",
    "<p></p><div class=\"alert-success\">\n",
    "<b>In a Jupyter notebook, `Python` code is written in a `Code` cell, and run by <i>executing</i> that cell with `Shift-Enter`</b>\n",
    "</div>\n",
    "\n",
    "* You can use the code cell like a calculator\n",
    "* *Comments* (plain text that is not executed as code) are written with a hash (`#`) at the start of the line\n",
    "\n",
    "An example of using the cell like a calculator is given below.\n",
    "\n",
    "<img src=\"images/exercise.png\" style=\"width: 50px; float: left;\">\n",
    "### Exercise: Python as a Calculator\n",
    "\n",
    "<p></p><div class=\"alert-danger\">\n",
    "<b>Edit the cell below to perform a new calculation.</b>\n",
    "</div>"
   ]
  },
  {
   "cell_type": "code",
   "execution_count": 3,
   "metadata": {},
   "outputs": [
    {
     "data": {
      "text/plain": [
       "1.4769230769230768"
      ]
     },
     "execution_count": 3,
     "metadata": {},
     "output_type": "execute_result"
    }
   ],
   "source": [
    "# This cell is being used like a calculator\n",
    "# You can edit this cell, and run the new calculation with Shift-Enter\n",
    "\n",
    "(1 + 95) * 1e-2 / 0.65"
   ]
  },
  {
   "cell_type": "markdown",
   "metadata": {},
   "source": [
    "* `Code` cells can be used to write and execute more complex `Python` code\n",
    "\n",
    "In the example below, a *function* named `calculate_gc()` is written. This calculates the GC content of a passed nucleotide sequence. The *function* is then *called* on a nucleotide sequence, and the GC content calculated.\n",
    "\n",
    "<p></p><div class=\"alert-warning\">\n",
    "<b>NOTE:</b> The code in this function is not very good - it doesn't do the necessary checks for a passed sequence being a plausible nucleotide sequence, for instance.\n",
    "</div>"
   ]
  },
  {
   "cell_type": "code",
   "execution_count": 4,
   "metadata": {
    "collapsed": true
   },
   "outputs": [],
   "source": [
    "# Define a function that calculates the GC content of a passed sequence\n",
    "def calculate_gc(sequence):\n",
    "    \"\"\"Return the percentage GC content of the passed sequence\"\"\"\n",
    "    sequence = sequence.upper()    # convert sequence to upper-case\n",
    "    g_plus_c = sequence.count('G') + sequence.count('C')\n",
    "    gc = g_plus_c / len(sequence)\n",
    "    return gc"
   ]
  },
  {
   "cell_type": "code",
   "execution_count": 5,
   "metadata": {},
   "outputs": [
    {
     "data": {
      "text/plain": [
       "0.5098039215686274"
      ]
     },
     "execution_count": 5,
     "metadata": {},
     "output_type": "execute_result"
    }
   ],
   "source": [
    "# Define a nucleotide sequence\n",
    "my_sequence = \"ctagtcgacgatcatgcagcagctacatcgtagctagcatgctagctagca\"\n",
    "\n",
    "# Calculate the GC content of the sequence\n",
    "calculate_gc(my_sequence)"
   ]
  },
  {
   "cell_type": "markdown",
   "metadata": {},
   "source": [
    "<img src=\"images/exercise.png\" style=\"width: 50px; float: left;\">\n",
    "### Exercise: Editing Python Code\n",
    "\n",
    "<p></p><div class=\"alert-danger\">\n",
    "<b>Create a cell below, and define a new nucleotide sequence, then calculate its GC content.</b>\n",
    "<p></p>\n",
    "<b>BONUS QUESTION: What happens if your sequence has characters other than `{a, c, g, t}`?</b>\n",
    "</div>"
   ]
  },
  {
   "cell_type": "markdown",
   "metadata": {},
   "source": [
    "<a id=\"saving\"></a>\n",
    "# 7. Saving a Notebook\n",
    "\n",
    "<p></p><div class=\"alert-success\">\n",
    "<b>It is important to save your work frequently. You can also save your notebooks in formats that are easy and covenient to share</b>\n",
    "</div>\n",
    "\n",
    "* The simplest way to save a notebook is to use `Ctrl-S` to checkpoint the existing notebook\n",
    "\n",
    "## Downloading a Notebook\n",
    "\n",
    "The Jupyter notebook system allows you to download notebooks in a number of formats, by using the `File -> Download as` menu bar option.\n",
    "\n",
    "![Jupyter notebook download options](images/notebook_download.png)\n",
    "\n",
    "Alternative formats can have particular advantages, such as:\n",
    "\n",
    "* `Notebook (.ipynb)`: makes an additional copy of the current notebook\n",
    "* `Python (.py)`: creates a `Python` script out of the `Code` cells in the notebook\n",
    "* `HTML (.html)`: creates a read-only HTML version of the notebook that can be shared with others (or placed on a website) and opened in any web browser"
   ]
  },
  {
   "cell_type": "markdown",
   "metadata": {},
   "source": [
    "<a id=\"creating\"></a>\n",
    "# 8. Creating a New Notebook\n",
    "\n",
    "<p></p><div class=\"alert-success\">\n",
    "<b>There are two main ways to create a new Jupyter notebook.</b>\n",
    "</div>\n",
    "\n",
    "* From the Jupyter home page\n",
    "* *Via* `File -> New Notebook` in the menu bar\n",
    "\n",
    "In either case, selecting `Python 3` will give you a new notebook, ready to take input as `Markdown` or `Python` code.\n",
    "\n",
    "## In the Jupyter Home Page\n",
    "\n",
    "In the top right of the Jupyter home page there is a button labelled `New`. Clicking on this will give you options to create a new file of several types (what is available will depend on your own setup).\n",
    "\n",
    "![Jupyter notebook home page New button](images/notebook_home_create.png)\n",
    "\n",
    "## In the Current Notebook\n",
    "\n",
    "In the `File -> New Notebook` menu option, you will be presented with a (shorter) list of notebook creation options.\n",
    "\n",
    "![Jupyter notebook menu new notebook options](images/notebook_create.png)\n"
   ]
  }
 ],
 "metadata": {
  "kernelspec": {
   "display_name": "Python 3 (SfAM)",
   "language": "python",
   "name": "python3_sfam"
  },
  "language_info": {
   "codemirror_mode": {
    "name": "ipython",
    "version": 3
   },
   "file_extension": ".py",
   "mimetype": "text/x-python",
   "name": "python",
   "nbconvert_exporter": "python",
   "pygments_lexer": "ipython3",
   "version": "3.6.0"
  }
 },
 "nbformat": 4,
 "nbformat_minor": 2
}
