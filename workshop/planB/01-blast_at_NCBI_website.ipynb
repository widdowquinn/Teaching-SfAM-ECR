{
 "cells": [
  {
   "cell_type": "markdown",
   "metadata": {
    "deletable": true,
    "editable": true
   },
   "source": [
    "<img src=\"images/JHI_STRAP_Web.png\" style=\"width: 150px; float: right;\">\n",
    "# 01 - `BLAST+` at NCBI"
   ]
  },
  {
   "cell_type": "markdown",
   "metadata": {
    "deletable": true,
    "editable": true
   },
   "source": [
    "## Learning Outcomes\n",
    "\n",
    "* Use of `BLAST+` at the `NCBI` website, using the browser interface\n",
    "* Obtaining and downloading `BLAST+` output in multiple formats\n",
    "* Interpreting `BLAST+` output"
   ]
  },
  {
   "cell_type": "markdown",
   "metadata": {
    "deletable": true,
    "editable": true
   },
   "source": [
    "## Table of Contents\n",
    "\n",
    "1. [Introduction](#introduction)\n",
    "2. [Using the NCBI website](#website)\n",
    "3. [Exercise 01](#ex01)"
   ]
  },
  {
   "cell_type": "markdown",
   "metadata": {
    "deletable": true,
    "editable": true
   },
   "source": [
    "<a id=\"introduction\"></a>\n",
    "## Introduction\n",
    "\n",
    "<div class=\"alert-success\">\n",
    "<b>The `BLAST/BLAST+` package compares nucleotide or protein sequences to other databases of biological sequences, and reports back what it considers to be the most similar sequences from the database.</b>\n",
    "</div>\n",
    "\n",
    "`BLAST` can be run using any of several interfaces, including:\n",
    "\n",
    "* at the NCBI website: [https://blast.ncbi.nlm.nih.gov/Blast.cgi](https://blast.ncbi.nlm.nih.gov/Blast.cgi)\n",
    "* using the `ncbi-blast` program suite in a terminal\n",
    "* by interacting with the tool, using a programming language\n",
    "* creating a new *instance* in the cloud, to run your own `BLAST` server\n",
    "* sending a job to the NCBI servers, using a programming language"
   ]
  },
  {
   "cell_type": "markdown",
   "metadata": {
    "deletable": true,
    "editable": true
   },
   "source": [
    "### Why so many ways to use `BLAST`?\n",
    "\n",
    "<div class=\"alert-success\">\n",
    "<b>Each of the interfaces has advantages and disadvantages that should help you decide when and why to use any particular approach.</b>\n",
    "</div>\n",
    "\n",
    "* The web interface at NCBI is user-friendly, and available wherever you have a network connection. It uses the large computing resources of NCBI to run queries against very large databases very quickly. A number of variants to the standard `BLAST` search are offered, which may be appropriate for a particular task.\n",
    "* Using a local installation of `ncbi-blast` at the terminal gives you full control over how to use the program, and allows you to readily build custom databases (useful for proprietary information). However, you are limited to the computing power you have available. Happily, `BLAST` doesn't require excessive amounts of computing resources and for many tasks a desktop or laptop machine is sufficient.\n",
    "* Programmatic running of `BLAST` - either locally or using the web interface to the NCBI servers - allows for repeated searches, and automated integration of the search results with arbitrary data-processing tasks and other analyses."
   ]
  },
  {
   "cell_type": "markdown",
   "metadata": {
    "deletable": true,
    "editable": true
   },
   "source": [
    "### Resources\n",
    "\n",
    "* [NCBI `BLAST` webpage](https://blast.ncbi.nlm.nih.gov/Blast.cgi)\n",
    "* [`ncbi-blast+` download](https://blast.ncbi.nlm.nih.gov/Blast.cgi?PAGE_TYPE=BlastDocs&DOC_TYPE=Download)\n",
    "* [Original publication: Altschul *et al.* (1990)](http://dx.doi.org/10.1016/S0022-2836(05)80360-2)\n",
    "* [Gapped `BLAST` publication: Altschul *et al.* (1997)](https://www.ncbi.nlm.nih.gov/pmc/articles/PMC146917/)"
   ]
  },
  {
   "cell_type": "markdown",
   "metadata": {
    "deletable": true,
    "editable": true
   },
   "source": [
    "<a id=\"website\"></a>\n",
    "## Using the NCBI website\n",
    "\n",
    "\n",
    "* **Open a browser and navigate to the [NCBI `BLAST` webpage](https://blast.ncbi.nlm.nih.gov/Blast.cgi).** \n",
    "\n",
    "![NCBI BLAST landing page](./images/01-01_ncbi_landing.png)\n",
    "\n",
    "Scrolling up-and-down the page indicates several available `BLAST` tools, including:\n",
    "\n",
    "  * 'Nucleotide BLAST' (`BLASTN` - query a nucleotide sequence against a database of nucleotide sequences)\n",
    "  * 'Protein BLAST' (`BLASTP` - query a protein sequence against a database of protein sequences)\n",
    "  * `BLASTX` (query a nucleotide sequence against a database of protein sequences)\n",
    "  * `TBLASTN` (query a protein sequence against a database of nucleotide sequences)\n",
    "  * SmartBLAST (query a protein against the specialised \"landmark\" database to find highly-similar sequences)\n",
    "  * Primer-BLAST (find primers specific to your PCR template)\n",
    "  * CD-search (search specifically for conserved domains of a sequence)\n",
    "  * GEO (query a nucleotide sequence against a database of transcriptional expression profiles)\n",
    "  * Targeted Loci (query a nucleotide sequence against a database of sequence markers)\n",
    "\n",
    "<p></p>\n",
    "<div class=\"alert-success\">\n",
    "<b>These tools are applications of the generic `BLAST` tools using custom search parameters and/or custom databases against which to search with the input sequence.</b>\n",
    "</div>\n",
    "\n",
    "* **Click on the \"Nucleotide BLAST\" link to get the web `BLASTN` interface.**\n",
    "\n",
    "![NCBI BLASTN page](./images/01-02_ncbi_blastn.png)\n",
    "\n",
    "Sequences can be typed or copied and pasted into the \"Enter Query Sequence\" box, but they can also be uploaded from an existing FASTA file on your computer. We will do this.\n",
    "\n",
    "* **Download the sequence file with [this link](https://raw.githubusercontent.com/widdowquinn/Teaching-IBioIC-Intro-to-Bioinformatics/master/02-sequence_databases/data/kitasatospora/k_sp_CB01950_penicillin.fasta)**\n",
    "* **Click on the \"Choose file\" button. A file dialogue will pop up.**\n",
    "* **In the file dialogue, navigate to, and select the file `k_sp_CB01950_penicillin.fasta`. Then click on \"Open\".**\n",
    "\n",
    "![NCBI BLASTN file selection](./images/01-03_ncbi_file_select.png)\n",
    "\n",
    "The file will show up as being selected next to the \"Choose file\" button.\n",
    "\n",
    "* **Enter a descriptive job title in the **Job Title** field**\n",
    "* **Make sure the selected database is \"Nucleotide collection\"**\n",
    "\n",
    "![NCBI BLASTN title and database](./images/01-04_ncbi_title_db.png)\n",
    "\n",
    "* **Scroll to the bottom of the page and click on the \"BLAST\" button.**\n",
    "\n",
    "![NCBI BLASTN button](./images/01-05_ncbi_blast_button.png)\n",
    "\n",
    "An interstitial page will appear, reporting the job ID, and giving you runtime information. The page will be updated automatically, and frequently.\n",
    "\n",
    "![NCBI BLASTN interstitial page](./images/01-06_interstitial.png)\n",
    "\n",
    "Once the job is complete, the results will be displayed as an interactive webpage.\n",
    "\n",
    "![NCBI BLASTN results page](./images/01-07_blast_results.png)\n",
    "\n",
    "* **Inspect the results - note the information that the page gives you about how the search was done.**"
   ]
  },
  {
   "cell_type": "markdown",
   "metadata": {
    "deletable": true,
    "editable": true
   },
   "source": [
    "<div class=\"alert-warning\">\n",
    "<h3>QUESTIONS</h3>\n",
    "<ol>\n",
    "<li> What is the \"best hit\" to the query? Why do you think it is the \"best hit\" (what in the results tells you this?)\n",
    "<li> At what point do you think the matches start to become less reliable? Why do you think this? (*HINT:* inspect the alignments)\n",
    "<li> Click on the links to `[Taxonomy reports]` and `[Distance tree of results]` at the top of the page. What information do these reports add to the main result?\n",
    "</ol>\n",
    "</div>"
   ]
  },
  {
   "cell_type": "markdown",
   "metadata": {
    "deletable": true,
    "editable": true
   },
   "source": [
    "### Download the results\n",
    "\n",
    "* **Click on the `Download` link at the top of the results page.**\n",
    "\n",
    "![NCBI BLASTN results download options](./images/01-08_blast_downloads.png)\n",
    "\n",
    "* **Right-click on the download link for `Text` and save the results to `output/kitasatospora/ncbi_blastn_query_01.txt`**\n",
    "* **Right-click on the download link for `Table(CSV)` and save the results to `output/kitasatospora/ncbi_blastn_query_01.csv`**"
   ]
  },
  {
   "cell_type": "markdown",
   "metadata": {
    "deletable": true,
    "editable": true
   },
   "source": [
    "<a id=\"ex01\"></a>\n",
    "<img src=\"./images/exercise.png\" style=\"width: 40px; float: left;\">\n",
    "\n",
    "## Exercise 01: Using the NCBI `BLAST` Website\n",
    "\n",
    "Using the NCBI `BLAST` website:\n",
    "\n",
    "<div class=\"alert-danger\">\n",
    "<ul>\n",
    "<li> Download the [`lantibiotic.fasta`](https://raw.githubusercontent.com/widdowquinn/Teaching-IBioIC-Intro-to-Bioinformatics/master/02-sequence_databases/data/kitasatospora/lantibiotic.fasta) sequence file\n",
    "<li> Conduct a `BLASTX` query with `lantibiotic.fasta` against the `nr` database, restricting your results only to *Kitasatospora* spp. matches (taxid: 2063)\n",
    "<li> Save the results in `Text` and `Table(CSV)` format to\n",
    "  <ul>\n",
    "  <li> `output/kitasatospora/ncbi_blastx_query_02.txt`\n",
    "  <li> `output/kitasatospora/ncbi_blastx_query_02.csv`\n",
    "  </ul>\n",
    "</ul>  </div>"
   ]
  },
  {
   "cell_type": "markdown",
   "metadata": {
    "deletable": true,
    "editable": true
   },
   "source": [
    "<div class=\"alert-warning\">\n",
    "<h3>QUESTIONS</h3>\n",
    "<ol>\n",
    "<li> How many hits do you find?\n",
    "<li> What is the \"best hit\" to the query? Why do you think it is the \"best hit\" (what in the results tells you this?)\n",
    "<li> At what point do you think the matches start to become less reliable? Why do you think this? (*HINT:* inspect the alignments)\n",
    "</ol>\n",
    "</div>"
   ]
  }
 ],
 "metadata": {
  "kernelspec": {
   "display_name": "Python 3 (SfAM)",
   "language": "python",
   "name": "python3_sfam"
  },
  "language_info": {
   "codemirror_mode": {
    "name": "ipython",
    "version": 3
   },
   "file_extension": ".py",
   "mimetype": "text/x-python",
   "name": "python",
   "nbconvert_exporter": "python",
   "pygments_lexer": "ipython3",
   "version": "3.5.3"
  }
 },
 "nbformat": 4,
 "nbformat_minor": 2
}
