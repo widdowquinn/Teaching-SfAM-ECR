{
 "cells": [
  {
   "cell_type": "markdown",
   "metadata": {},
   "source": [
    "<img src=\"images/JHI_STRAP_Web.png\" style=\"width: 150px; float: right;\">\n",
    "# 02 - Automation (20min)"
   ]
  },
  {
   "cell_type": "markdown",
   "metadata": {},
   "source": [
    "## Table of Contents\n",
    "\n",
    "1. [Introduction](#introduction)\n",
    "2. [`Python Basics`](#python)\n",
    "2. [`BLAST`](#blast)"
   ]
  },
  {
   "cell_type": "markdown",
   "metadata": {},
   "source": [
    "<a id=\"introduction\"></a>\n",
    "## 1. Introduction\n",
    "\n",
    "<p></p><div class=\"alert-success\">\n",
    "<b>In this notebook, we will consider practical examples of *automation* where you can let the computer handle repetitive, tedious, and possibly error-prone parts of your work.</b>\n",
    "</div>\n",
    "\n",
    "We will first introduce some of the basics of automation in the programming language `Python`. The principles we introduce here for (*variables*, *functions*, *for loops*) are completely general and occur in any programming language you may go on to use (e.g. `bash`, `R`, `Julia`, `Ruby`, etc.). "
   ]
  },
  {
   "cell_type": "markdown",
   "metadata": {},
   "source": [
    "<a id=\"python\"></a>\n",
    "## 2. Python Basics (10min)\n",
    "\n",
    "Please click on the link below to start the `Python Basics` notebook.\n",
    "\n",
    "* [02a-Python](02a-python.ipynb)"
   ]
  },
  {
   "cell_type": "markdown",
   "metadata": {},
   "source": [
    "<a id=\"blast\"></a>\n",
    "## 3. BLAST (10min)\n",
    "\n",
    "Please click on the link below to start the `BLAST` notebook.\n",
    "\n",
    "* [02b-Blast](02b-blast.ipynb)"
   ]
  },
  {
   "cell_type": "code",
   "execution_count": null,
   "metadata": {
    "collapsed": true
   },
   "outputs": [],
   "source": []
  }
 ],
 "metadata": {
  "kernelspec": {
   "display_name": "Python 3 (SfAM)",
   "language": "python",
   "name": "python3_sfam"
  },
  "language_info": {
   "codemirror_mode": {
    "name": "ipython",
    "version": 3
   },
   "file_extension": ".py",
   "mimetype": "text/x-python",
   "name": "python",
   "nbconvert_exporter": "python",
   "pygments_lexer": "ipython3",
   "version": "3.6.0"
  }
 },
 "nbformat": 4,
 "nbformat_minor": 2
}
