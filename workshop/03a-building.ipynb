{
 "cells": [
  {
   "cell_type": "markdown",
   "metadata": {},
   "source": [
    "<img src=\"images/JHI_STRAP_Web.png\" style=\"width: 150px; float: right;\">\n",
    "# 03a - Building a Reproducible Document"
   ]
  },
  {
   "cell_type": "markdown",
   "metadata": {},
   "source": [
    "## Table of Contents\n",
    "\n",
    "1. [Python Imports/Startup](#python_imports)\n",
    "2. [Biological Motivation](#motivation)\n",
    "3. [Load Sequence](#load_sequence)\n",
    "4. [Build `BLAST` database](#build_blast)\n",
    "5. [Run `BLAST` query](#blast_query)\n",
    "6. [Load `BLAST` results](#blast_results)\n",
    "7. [Query `UniProt`](#uniprot)\n",
    "8. [Query `KEGG`](#uniprot)"
   ]
  },
  {
   "cell_type": "markdown",
   "metadata": {},
   "source": [
    "<a id=\"python_imports\"></a>\n",
    "## 1. Python Imports/Startup\n",
    "\n",
    "<p></p><div class=\"alert-success\">\n",
    "<b>It can be very convenient to have all the `Python` library imports at the top of the notebook.</b>\n",
    "</div>\n",
    "\n",
    "This is very helpful when running the notebook with, e.g. `Cell -> Run All` or `Kernel -> Restart & Run All` from the menu bar, all the libraries are available throughout the document."
   ]
  },
  {
   "cell_type": "code",
   "execution_count": null,
   "metadata": {
    "collapsed": true
   },
   "outputs": [],
   "source": [
    "# The line below allows the notebooks to show graphics inline\n",
    "%pylab inline\n",
    "\n",
    "import io                            # This lets us handle streaming data\n",
    "import os                            # This lets us communicate with the operating system\n",
    "\n",
    "import pandas as pd                  # This lets us use dataframes\n",
    "import seaborn as sns                # This lets us draw pretty graphics\n",
    "\n",
    "# Biopython is a widely-used library for bioinformatics\n",
    "# tasks, and integrating with software\n",
    "from Bio import SeqIO                # This lets us handle sequence data\n",
    "from Bio.KEGG import REST            # This lets us connect to the KEGG databases\n",
    "\n",
    "# The bioservices library allows connections to common\n",
    "# online bioinformatics resources\n",
    "from bioservices import UniProt      # This lets us connect to the UniProt databases\n",
    "\n",
    "from IPython.display import Image    # This lets us display images (.png etc) from code"
   ]
  },
  {
   "cell_type": "markdown",
   "metadata": {},
   "source": [
    "<p></p><div class=\"alert-success\">\n",
    "<b>It can be useful here to create any output directories that will be used throughout the document.</b>\n",
    "</div>\n",
    "\n",
    "The `os.makedirs()` function allows us to create a new directory, and the `exist_ok` option will prevent the notebook code from stopping and throwing an error if the directory already exists."
   ]
  },
  {
   "cell_type": "code",
   "execution_count": null,
   "metadata": {
    "collapsed": true
   },
   "outputs": [],
   "source": [
    "# Create a new directory for notebook output\n",
    "OUTDIR = os.path.join(\"data\", \"reproducible\", \"output\")\n",
    "os.makedirs(OUTDIR, exist_ok=True)"
   ]
  },
  {
   "cell_type": "markdown",
   "metadata": {},
   "source": [
    "<p></p><div class=\"alert-success\">\n",
    "<b>It can be useful here to create helper functions that will be used throughout the document.</b>\n",
    "</div>\n",
    "\n",
    "The `to_df()` function will turn tabular data into a `pandas` dataframe"
   ]
  },
  {
   "cell_type": "code",
   "execution_count": null,
   "metadata": {
    "collapsed": true
   },
   "outputs": [],
   "source": [
    "# A small function to return a Pandas dataframe, given tabular text\n",
    "def to_df(result):\n",
    "    return pd.read_table(io.StringIO(result), header=None)"
   ]
  },
  {
   "cell_type": "markdown",
   "metadata": {},
   "source": [
    "<a id=\"motivation\"></a>\n",
    "## 2. Biological Motivation\n",
    "\n",
    "<p></p><div class=\"alert-info\">\n",
    "<b>We are working on a project to improve bacterial throughput for biosynthesis, and have been provided with a nucleotide sequence of a gene of interest.\n",
    "<br></br><br></br>\n",
    "This gene is overrepresented in populations of bacteria that appear to be associated with enhanced metabolic function relevant to a biosynthetic output (lipid conversion to ethanol).\n",
    "<br></br><br></br>\n",
    "We want to find out more about the annotated function and literature associated with this gene, which appears to derive from *Proteus mirabilis*.\n",
    "</div>\n",
    "\n",
    "Our plan is to:\n",
    "\n",
    "1. identify a homologue in a reference isolate of *P. mirabilis*\n",
    "2. obtain the protein sequence/identifier for the homologue\n",
    "3. get information about the molecular function of this protein from `UniProt`\n",
    "4. get information about the metabolic function of this protein from `KEGG`\n",
    "5. visualise some of the information about this gene/protein"
   ]
  },
  {
   "cell_type": "markdown",
   "metadata": {},
   "source": [
    "<a id=\"load_sequence\"></a>\n",
    "## 3. Load Sequence\n",
    "\n",
    "<p></p><div class=\"alert-success\">\n",
    "<b>We first load the sequence from a local `FASTA` file, using the `Biopython` `SeqIO` library.</b>\n",
    "</div>"
   ]
  },
  {
   "cell_type": "markdown",
   "metadata": {},
   "source": [
    "<a id=\"build_blast\"></a>\n",
    "## 4. Build `BLAST` Database\n",
    "\n",
    "<p></p><div class=\"alert-success\">\n",
    "<b>We now build a local `BLAST` database from the *P. mirabilis* reference proteins.</b>\n",
    "</div>"
   ]
  },
  {
   "cell_type": "markdown",
   "metadata": {},
   "source": [
    "<a id=\"blast_query\"></a>\n",
    "## 5. Run `BLAST` Query\n",
    "\n",
    "<p></p><div class=\"alert-success\">\n",
    "<b>We now query the wildtype sequence against our custom `BLAST` database from the *P. mirabilis* reference proteins.</b>\n",
    "</div>"
   ]
  },
  {
   "cell_type": "markdown",
   "metadata": {},
   "source": [
    "<a id=\"blast_results\"></a>\n",
    "## 6. Load `BLAST` Results\n",
    "\n",
    "<p></p><div class=\"alert-success\">\n",
    "<b>We now load the `BLASTX` results for inspection and visualisation, using `pandas`</b>\n",
    "</div>"
   ]
  },
  {
   "cell_type": "markdown",
   "metadata": {},
   "source": [
    "<a id=\"uniprot\"></a>\n",
    "## 7. Query `UniProt`\n",
    "\n",
    "<p></p><div class=\"alert-success\">\n",
    "<b>We now query the `UniProt` databases for information on our best match</b>\n",
    "</div>"
   ]
  },
  {
   "cell_type": "markdown",
   "metadata": {},
   "source": [
    "<a id=\"kegg\"></a>\n",
    "## 8. Query `KEGG`\n",
    "\n",
    "<p></p><div class=\"alert-success\">\n",
    "<b>We now query the `KEGG` databases for information on our best match</b>\n",
    "</div>"
   ]
  }
 ],
 "metadata": {
  "kernelspec": {
   "display_name": "Python 3 (SfAM)",
   "language": "python",
   "name": "python3_sfam"
  },
  "language_info": {
   "codemirror_mode": {
    "name": "ipython",
    "version": 3
   },
   "file_extension": ".py",
   "mimetype": "text/x-python",
   "name": "python",
   "nbconvert_exporter": "python",
   "pygments_lexer": "ipython3",
   "version": "3.6.0"
  }
 },
 "nbformat": 4,
 "nbformat_minor": 2
}
