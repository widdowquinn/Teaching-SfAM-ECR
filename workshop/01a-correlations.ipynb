{
 "cells": [
  {
   "cell_type": "markdown",
   "metadata": {},
   "source": [
    "<img src=\"images/JHI_STRAP_Web.png\" style=\"width: 150px; float: right;\">\n",
    "# 01a - Correlations (15min)"
   ]
  },
  {
   "cell_type": "markdown",
   "metadata": {},
   "source": [
    "## Table of Contents\n",
    "\n",
    "1. [Biological Motivation](#motivation)\n",
    "2. [Dataset](#dataset)\n",
    "3. [Summary Statistics](#summary)\n",
    "4. [Correlations](#correlations)\n",
    "5. [Visualising Data](#visualising)\n",
    "6. [Comments](#comments)"
   ]
  },
  {
   "cell_type": "markdown",
   "metadata": {},
   "source": [
    "<a id=\"motivation\"></a>\n",
    "## 1. Biological motivation\n",
    "\n",
    "<p></p><div class=\"alert-info\">\n",
    "You have been given a dataset of transcript levels (e.g. RNAseq, microarray, qRT-PCR) for two genes in your organism of interest. These transcript levels have been measured over 11 timepoints. You would like to know whether those genes are coregulated or not.\n",
    "</div>\n",
    "\n",
    "<img src=\"images/exercise.png\" style=\"width: 50px; float: left;\">\n",
    "### QUESTION:  (2min)\n",
    "\n",
    "<p></p><div class=\"alert-danger\">\n",
    "<b>\n",
    "How can you determine whether two genes are coregulated from transcript data?\n",
    "<br></br><br></br>\n",
    "What is the distinction between coregulation and <i>correlated expression</i>?\n",
    "</b>\n",
    "</div>"
   ]
  },
  {
   "cell_type": "markdown",
   "metadata": {},
   "source": [
    "<a id=\"dataset\"></a>\n",
    "## 2. Dataset\n",
    "\n",
    "<p></p><div class=\"alert-success\">\n",
    "<b>The `Code` cell below contains Python code that will load your dataset.</b>\n",
    "</div>\n",
    "\n",
    "You will have been assigned a letter: **A**, **B**, **C**, or **D** as part of the workshop. Please enter this letter in the first line of Python code, so that you are working with the appropriate dataset:\n",
    "\n",
    "```python\n",
    "# Define your group, for this exercise\n",
    "mygroup = \"A\"  # <- change the letter in quotes\n",
    "```\n",
    "\n",
    "and then ***execute the cell*** with `Ctrl-Enter` or `Shift-Enter`. This will load the exercise data into a *variable* called `data`."
   ]
  },
  {
   "cell_type": "code",
   "execution_count": null,
   "metadata": {
    "collapsed": true
   },
   "outputs": [],
   "source": [
    "# Define your group, for this exercise\n",
    "mygroup = \"A\"  # <- change the letter in quotes\n",
    "\n",
    "# Import Python libraries\n",
    "import os               # This lets us interact with the operating system\n",
    "import pandas as pd     # This allows us to use dataframes\n",
    "import seaborn as sns   # This gives us pretty graphics options\n",
    "\n",
    "# Load the data\n",
    "datafile = os.path.join('data', 'correlations', mygroup, 'expn.tab')\n",
    "data = pd.read_csv(datafile, sep=\"\\t\")\n",
    "\n",
    "# Show the first few lines of the data\n",
    "data.head()"
   ]
  },
  {
   "cell_type": "markdown",
   "metadata": {},
   "source": [
    "After executing the `code` cell, you should see a table of values. The table has columns named **gene1** and **gene2**, and rows that are *indexed* starting at zero (it is typical in many programming languages to start counting at zero)."
   ]
  },
  {
   "cell_type": "markdown",
   "metadata": {},
   "source": [
    "<a id=\"summary\"></a>\n",
    "## 3. Summary statistics\n",
    "\n",
    "<p></p><div class=\"alert-success\">\n",
    "<b>It can be very useful to get a quantitative overview of a new dataset by looking at some *bulk statistics*: the dataset's *mean*, *median*, *variance*, *standard deviation*, and minimum and maximum values.</b>\n",
    "</div>\n",
    "\n",
    "The data you loaded is in a `dataframe` (this behaves very much like `dataframe`s in the `R` language), and you can obtain summary statistics quite readily using the `.describe()` *method*.\n",
    "\n",
    "```python\n",
    "# Show summary statistics of the dataframe\n",
    "data.describe()\n",
    "```\n",
    "\n",
    "<p></p><div class=\"alert-danger\">\n",
    "<b>Use the `.describe()` method to obtain summary statistics for your data in the cell below</b>\n",
    "</div>"
   ]
  },
  {
   "cell_type": "code",
   "execution_count": null,
   "metadata": {
    "collapsed": true
   },
   "outputs": [],
   "source": [
    "# Show summary statistics of the dataframe"
   ]
  },
  {
   "cell_type": "markdown",
   "metadata": {},
   "source": [
    "<a id=\"correlations\"></a>\n",
    "## 4. Correlations\n",
    "\n",
    "<p></p><div class=\"alert-success\">\n",
    "<b>We have decided that, as a way of identifying potentially coregulated genes, we will look for *correlated expression* between `gene1` and `gene2`</b>\n",
    "</div>\n",
    "\n",
    "The `dataframe` provides another *method* that reports the (Pearson) correlation coefficient between the columns of the dataset:\n",
    "\n",
    "```python\n",
    "# Show the Pearson correlation coefficients between columns in the dataset\n",
    "data.corr()\n",
    "```\n",
    "\n",
    "<p></p><div class=\"alert-danger\">\n",
    "<b>Use the `.corr()` method to obtain summary statistics for your data in the cell below</b>\n",
    "</div>"
   ]
  },
  {
   "cell_type": "code",
   "execution_count": null,
   "metadata": {
    "collapsed": true
   },
   "outputs": [],
   "source": [
    "# Show the Pearson correlation coefficients between columns in the dataset"
   ]
  },
  {
   "cell_type": "markdown",
   "metadata": {},
   "source": [
    "You can now make a quantitative estimate of whether these two genes are likely to be coregulated.\n",
    "\n",
    "<img src=\"images/exercise.png\" style=\"width: 50px; float: left;\">\n",
    "### QUESTION:  (2min)\n",
    "\n",
    "<p></p><div class=\"alert-danger\">\n",
    "<b>How strong do you think the evidence is that these two genes are coregulated?</b>\n",
    "</div>"
   ]
  },
  {
   "cell_type": "markdown",
   "metadata": {},
   "source": [
    "<a id=\"visualising\"></a>\n",
    "## 5. Visualising Data\n",
    "\n",
    "<p></p><div class=\"alert-success\">\n",
    "<b>In addition to summary statistics, it is always useful to *visualise* your data, to inspect it for patterns and potential outliers, and to see whether it makes intuitive sense.</b>\n",
    "</div>\n",
    "\n",
    "The `dataframe` provides a group of methods that allow us to plot the data for **gene1** and **gene2** in various ways. You will use the `.plot.scatter()` method in the cell below to visualise the way in which their transcript levels vary together.\n",
    "\n",
    "```python\n",
    "# Show a scatter plot of transcript levels for gene1 and gene2\n",
    "data.plot.scatter('gene1', 'gene2');\n",
    "```\n",
    "\n",
    "<p></p><div class=\"alert-danger\">\n",
    "<b>Use the `.plot.scatter()` method to visualise your data in the cell below</b>\n",
    "</div>"
   ]
  },
  {
   "cell_type": "code",
   "execution_count": null,
   "metadata": {
    "collapsed": true
   },
   "outputs": [],
   "source": [
    "# The line below allows plots to be rendered in the notebook\n",
    "# This is very useful for literate programming, and for producing reports\n",
    "%matplotlib inline\n",
    "\n",
    "# Show a scatter plot of transcript levels for gene1 and gene2"
   ]
  },
  {
   "cell_type": "markdown",
   "metadata": {},
   "source": [
    "<img src=\"images/exercise.png\" style=\"width: 50px; float: left;\">\n",
    "### QUESTION:  (2min)\n",
    "\n",
    "<p></p><div class=\"alert-danger\">\n",
    "<b>How strong do you think the evidence is that these two genes are coregulated?</b>\n",
    "</div>"
   ]
  },
  {
   "cell_type": "markdown",
   "metadata": {},
   "source": [
    "<a id=\"comments\"></a>\n",
    "## 6. Comments\n",
    "\n",
    "### 1. Always Visualise Your Data\n",
    "\n",
    "Although your summary statistics looked promising (strong Pearson correlation coefficient), in some cases you will have seen that this single *point value* was misleading. You should always try to visualise your data in an appropriate way, so that you are not led astray by a single simple statstic (such as a *P*-value).\n",
    "\n",
    "### 2. Correlation Does Not Imply Causation\n",
    "\n",
    "![Divorce rate in Maine correlates with *per capita* margarine consumption](images/divorce_margarine.png)\n",
    "\n",
    "This relationship has Pearson correlation coefficient of [**0.993**](http://tylervigen.com/view_correlation?id=1703)\n",
    "\n",
    "### 3. In a Large Dataset, If You Look For Anything, You Will Find Something\n",
    "\n",
    "![Anyone cna do a PCA with fluorescent colors and make it look meaningful](images/twitter_pca.png)"
   ]
  }
 ],
 "metadata": {
  "kernelspec": {
   "display_name": "Python 3",
   "language": "python",
   "name": "python3"
  },
  "language_info": {
   "codemirror_mode": {
    "name": "ipython",
    "version": 3
   },
   "file_extension": ".py",
   "mimetype": "text/x-python",
   "name": "python",
   "nbconvert_exporter": "python",
   "pygments_lexer": "ipython3",
   "version": "3.6.1"
  }
 },
 "nbformat": 4,
 "nbformat_minor": 2
}
