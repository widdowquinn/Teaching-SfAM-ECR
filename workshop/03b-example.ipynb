{
 "cells": [
  {
   "cell_type": "markdown",
   "metadata": {},
   "source": [
    "<img src=\"images/JHI_STRAP_Web.png\" style=\"width: 150px; float: right;\">\n",
    "# 03b - An Example Reproducible Document"
   ]
  },
  {
   "cell_type": "markdown",
   "metadata": {},
   "source": [
    "## Table of Contents\n",
    "\n",
    "1. [Introduction](#introduction)\n",
    "2. [Python Imports/Startup](#python_imports)\n",
    "3. [Biological Motivation](#motivation)\n",
    "4. [Load Sequence](#load_sequence)\n",
    "5. [Build `BLAST` database](#build_blast)\n",
    "6. [Run `BLAST` query](#blast_query)\n",
    "7. [Load `BLAST` results](#blast_results)"
   ]
  },
  {
   "cell_type": "markdown",
   "metadata": {},
   "source": [
    "<a id=\"introduction\"></a>\n",
    "## 1. Introduction\n",
    "\n",
    "<p></p><div class=\"alert-success\">\n",
    "<b>This notebook is an example of what could be done in part `03b - Building a Reproducible Document` if more time was available.</b>\n",
    "</div>\n",
    "\n",
    "It is provided as a reference against which you can check your work from notebook `03b`, and inspect to get ideas for how you can use the same techniques and methods in your own research."
   ]
  },
  {
   "cell_type": "markdown",
   "metadata": {},
   "source": [
    "<a id=\"python_imports\"></a>\n",
    "## 2. Python Imports/Startup\n",
    "\n",
    "<p></p><div class=\"alert-success\">\n",
    "<b>It can be very convenient to have all the `Python` library imports at the top of the notebook.</b>\n",
    "</div>\n",
    "\n",
    "This is very helpful when running the notebook with, e.g. `Cell -> Run All` or `Kernel -> Restart & Run All` from the menu bar, all the libraries are available throughout the document."
   ]
  },
  {
   "cell_type": "code",
   "execution_count": 1,
   "metadata": {},
   "outputs": [
    {
     "name": "stdout",
     "output_type": "stream",
     "text": [
      "Populating the interactive namespace from numpy and matplotlib\n"
     ]
    }
   ],
   "source": [
    "# The line below allows the notebooks to show graphics inline\n",
    "%pylab inline\n",
    "\n",
    "import os                            # This lets us communicate with the operating system\n",
    "\n",
    "import pandas as pd                  # This lets us use dataframes\n",
    "import seaborn as sns                # This lets us draw pretty graphics\n",
    "\n",
    "# Biopython is a widely-used library for bioinformatics\n",
    "# tasks, and integrating with software\n",
    "from Bio import SeqIO                # This lets us handle sequence data\n",
    "from Bio.KEGG import REST            # This lets us connect to the KEGG databases\n",
    "\n",
    "# The bioservices library allows connections to common\n",
    "# online bioinformatics resources\n",
    "from bioservices import UniProt      # This lets us connect to the UniProt databases\n",
    "\n",
    "from IPython.display import Image    # This lets us display images (.png etc) from code"
   ]
  },
  {
   "cell_type": "markdown",
   "metadata": {},
   "source": [
    "<p></p><div class=\"alert-success\">\n",
    "<b>It can be useful here to create any output directories that will be used throughout the document.</b>\n",
    "</div>\n",
    "\n",
    "The `os.makedirs()` function allows us to create a new directory, and the `exist_ok` option will prevent the notebook code from stopping and throwing an error if the directory already exists."
   ]
  },
  {
   "cell_type": "code",
   "execution_count": 2,
   "metadata": {
    "collapsed": true
   },
   "outputs": [],
   "source": [
    "# Create a new directory for notebook output\n",
    "OUTDIR = os.path.join(\"data\", \"reproducible\", \"output\")\n",
    "os.makedirs(OUTDIR, exist_ok=True)"
   ]
  },
  {
   "cell_type": "markdown",
   "metadata": {},
   "source": [
    "<a id=\"motivation\"></a>\n",
    "## 3. Biological Motivation\n",
    "\n",
    "<p></p><div class=\"alert-info\">\n",
    "<b>We are working on a project to improve bacterial throughput for biosynthesis, and have been provided with a nucleotide sequence of a gene of interest.\n",
    "<br></br><br></br>\n",
    "This gene is overrepresented in populations of bacteria that appear to be associated with enhanced metabolic function relevant to a biosynthetic output (lipid conversion to ethanol).\n",
    "<br></br><br></br>\n",
    "We want to find out more about the annotated function and literature associated with this gene, which appears to derive from *Proteus mirabilis*.\n",
    "</div>\n",
    "\n",
    "Our plan is to:\n",
    "\n",
    "1. identify a homologue in a reference isolate of *P. mirabilis*\n",
    "2. obtain the protein sequence/identifier for the homologue\n",
    "3. get information about the molecular function of this protein from `UniProt`\n",
    "4. get information about the metabolic function of this protein from `KEGG`\n",
    "5. visualise some of the information about this gene/protein"
   ]
  },
  {
   "cell_type": "markdown",
   "metadata": {},
   "source": [
    "<a id=\"load_sequence\"></a>\n",
    "## 4. Load Sequence\n",
    "\n",
    "<p></p><div class=\"alert-success\">\n",
    "<b>We first load the sequence from a local `FASTA` file, using the `Biopython` `SeqIO` library.</b>\n",
    "</div>\n",
    "\n",
    "In the `code` cell below:\n",
    "\n",
    "* we put the path to the sequence file in the variable `seqfile`\n",
    "* we load the sequence into the variable `wildtype`"
   ]
  },
  {
   "cell_type": "code",
   "execution_count": 3,
   "metadata": {
    "collapsed": true
   },
   "outputs": [],
   "source": [
    "# Define the path to the sequence file (in data/reproducible/sequences)\n",
    "seqfile = os.path.join(\"data\", \"reproducible\", \"sequences\", \"lipase.fasta\")\n",
    "\n",
    "# Load the sequence data\n",
    "wildtype = SeqIO.read(seqfile, 'fasta')"
   ]
  },
  {
   "cell_type": "markdown",
   "metadata": {},
   "source": [
    "Once the sequence is loaded, we print it to the notebook to check it is correct."
   ]
  },
  {
   "cell_type": "code",
   "execution_count": 4,
   "metadata": {},
   "outputs": [
    {
     "name": "stdout",
     "output_type": "stream",
     "text": [
      "ID: candidate\n",
      "Name: candidate\n",
      "Description: candidate lipase protein from Proteus mirabilis population\n",
      "Number of features: 0\n",
      "Seq('ATGAGCACCAAGTACCCCATCGTGCTGGTGCACGGCCTGGCCGGCTTCAGCGAG...CTG', SingleLetterAlphabet())\n"
     ]
    }
   ],
   "source": [
    "# Print the 'wildtype' sequence\n",
    "print(wildtype)"
   ]
  },
  {
   "cell_type": "markdown",
   "metadata": {},
   "source": [
    "To see the sequence in `FASTA` format, we can use the `.format()` method:"
   ]
  },
  {
   "cell_type": "code",
   "execution_count": 10,
   "metadata": {},
   "outputs": [
    {
     "name": "stdout",
     "output_type": "stream",
     "text": [
      ">candidate lipase protein from Proteus mirabilis population\n",
      "ATGAGCACCAAGTACCCCATCGTGCTGGTGCACGGCCTGGCCGGCTTCAGCGAGATCGTG\n",
      "GGCTTCCCCTACTTCTACGGCATCGCCGACGCCCTGACCCAGGACGGCCACCAGGTGTTC\n",
      "ACCGCCAGCCTGAGCGCCTTCAACAGCAACGAGGTGAGGGGCAAGCAGCTGTGGCAGTTC\n",
      "GTGCAGACCATCCTGCAGGAGACCCAGACCAAGAAGGTGAACTTCATCGGCCACAGCCAG\n",
      "GGCCCCCTGGCCTGCAGGTACGTGGCCGCCAACTACCCCGACAGCGTGGCCAGCGTGACC\n",
      "AGCATCAACGGCGTGAACCACGGCAGCGAGATCGCCGACCTGTACAGGAGGATCATCAGG\n",
      "AAGGACAGCATCCCCGAGTACATCGTGGAGAAGGTGCTGAACGCCTTCGGCACCATCATC\n",
      "AGCACCTTCAGCGGCCACAGGGGCGACCCCCAGGACGCCATCGCCGCCCTGGAGAGCCTG\n",
      "ACCACCGAGCAGGTGACCGAGTTCAACAACAAGTACCCCCAGGCCCTGCCCAAGACCCCC\n",
      "TGCGGCGAGGGCGACGAGATCGTGAACGGCGTGCACTACTACTGCTTCGGCAGCTACATC\n",
      "CAGGAGCTGATCGCCGGCGAGAACGGCAACCTGCTGGACCCCACCCACGCCGCCATGAGG\n",
      "GTGCTGAACACCCTGTTCACCGAGAAGCAGAACGACGGCCTGGTGGGCAGGTGCAGCATG\n",
      "AGGCTGGGCAAGCTGATCAAGGACGACTACGCCCAGGACCACTTCGACATGGTGAACCAG\n",
      "GTGGCCGGCCTGGTGAGCTACAACGAGAACATCGTGGCCATCTACACCCTGCACGCCAAG\n",
      "TACCTGGCCAGCAAGCAGCTG\n",
      "\n",
      "861\n"
     ]
    }
   ],
   "source": [
    "# Print the 'wildtype' sequence as a FASTA formatted sequence\n",
    "print(wildtype.format('fasta'))\n",
    "print(len(wildtype))"
   ]
  },
  {
   "cell_type": "markdown",
   "metadata": {},
   "source": [
    "<a id=\"build_blast\"></a>\n",
    "## 5. Build `BLAST` Database\n",
    "\n",
    "<p></p><div class=\"alert-success\">\n",
    "<b>We now build a local `BLAST` database from the *P. mirabilis* reference proteins.</b>\n",
    "</div>\n",
    "\n",
    "* to do this, we run terminal commands in the notebook by using the \"*magic*\" command `%%bash` at the top of the `code` cell\n",
    "* using the `%%bash` command makes the rest of the lines in the cell work as though they were the command-line terminal\n",
    "\n",
    "We build a `BLAST` protein database from the file `data/reproducible/sequences/GCA_000069965.1_ASM6996v1_protein.faa` using the `makeblastdb` command.\n",
    "\n",
    "<p></p><div class=\"alert-info\">\n",
    "The output from this command is printed in the notebook below the cell when it runs.\n",
    "</div>"
   ]
  },
  {
   "cell_type": "code",
   "execution_count": 6,
   "metadata": {},
   "outputs": [
    {
     "name": "stdout",
     "output_type": "stream",
     "text": [
      "\n",
      "\n",
      "Building a new DB, current time: 04/16/2017 12:44:26\n",
      "New DB name:   /Users/lpritc/Development/GitHub/Teaching-SfAM-ECR/workshop/data/reproducible/output/reference_protein\n",
      "New DB title:  reference_protein\n",
      "Sequence type: Protein\n",
      "Deleted existing Protein BLAST database named /Users/lpritc/Development/GitHub/Teaching-SfAM-ECR/workshop/data/reproducible/output/reference_protein\n",
      "Keep MBits: T\n",
      "Maximum file size: 1000000000B\n",
      "Adding sequences from FASTA; added 3662 sequences in 0.15228 seconds.\n"
     ]
    }
   ],
   "source": [
    "%%bash\n",
    "# Drop out to bash to create the BLAST database\n",
    "\n",
    "# Make a BLAST protein database\n",
    "makeblastdb -in data/reproducible/sequences/GCA_000069965.1_ASM6996v1_protein.faa \\\n",
    "            -dbtype prot \\\n",
    "            -title reference_protein \\\n",
    "            -out data/reproducible/output/reference_protein"
   ]
  },
  {
   "cell_type": "markdown",
   "metadata": {},
   "source": [
    "<a id=\"blast_query\"></a>\n",
    "## 6. Run `BLAST` Query\n",
    "\n",
    "<p></p><div class=\"alert-success\">\n",
    "<b>We now query the wildtype sequence against our custom `BLAST` database from the *P. mirabilis* reference proteins.</b>\n",
    "</div>\n",
    "\n",
    "* to do this, we again run terminal commands in the notebook by using the \"*magic*\" command `%%bash` at the top of the `code` cell\n",
    "\n",
    "We `BLASTX` the nucleotide sequence query against the `BLAST` protein database in `data/reproducible/output/reference_protein`.\n",
    "\n",
    "<p></p><div class=\"alert-info\">\n",
    "We set the `BLAST` output format to `6` (tabular) format, so we can read it in with `pandas`.\n",
    "<br></br><br></br>\n",
    "<b>The `BLASTX` command does not produce output in the notebook, if it is successful</b>\n",
    "<br></br><br></br>\n",
    "We have named the `BLASTX` output file in such a way that we can tell what the query was, what the database was, and which `BLAST` program was used. This makes it easier to identify results when looking through output files.\n",
    "</div>"
   ]
  },
  {
   "cell_type": "code",
   "execution_count": 7,
   "metadata": {},
   "outputs": [],
   "source": [
    "%%bash\n",
    "# Drop out to bash to run the BLASTX query\n",
    "\n",
    "blastx -query data/reproducible/sequences/lipase.fasta \\\n",
    "        -db data/reproducible/output/reference_protein \\\n",
    "        -outfmt 6 \\\n",
    "        -out data/reproducible/output/wildtype_blastx_reference_protein.tab"
   ]
  },
  {
   "cell_type": "markdown",
   "metadata": {},
   "source": [
    "<a id=\"blast_results\"></a>\n",
    "## 6. Load `BLAST` Results\n",
    "\n",
    "<p></p><div class=\"alert-success\">\n",
    "<b>We now load the `BLASTX` results for inspection and visualisation, using `pandas`</b>\n",
    "</div>\n",
    "\n",
    "* we use the `pandas` `read_csv()` function to load the tabular data that was created using the option `-outfmt 6` in the `blastx` command\n",
    "* we define column headers, to make the tabular results easier to understand\n",
    "\n",
    "<p></p><div class=\"alert-info\">\n",
    "The tabular format is tab-separated, so we need to specify `sep=\"\\t\"` as the separator.\n",
    "<br></br><br></br>\n",
    "The tabular output has no header row, so we need to specify `header=None`\n",
    "<br></br><br></br>\n",
    "We add column headers to the dataframe *after* it is loaded\n",
    "</div>"
   ]
  },
  {
   "cell_type": "code",
   "execution_count": 8,
   "metadata": {
    "collapsed": true
   },
   "outputs": [],
   "source": [
    "# Define the path to the output file\n",
    "blastfile = os.path.join(\"data\", \"reproducible\", \"output\",\n",
    "                         \"wildtype_blastx_reference_protein.tab\")\n",
    "\n",
    "# Define column headers\n",
    "# These are the default columns produced with -outfmt 6\n",
    "headers = ['query', 'subject',\n",
    "           'pc_identity', 'aln_length',\n",
    "           'mismatches', 'gaps_opened',\n",
    "           'query_start', 'query_end',\n",
    "           'subject_start', 'subject_end',\n",
    "           'e_value', 'bitscore']\n",
    "\n",
    "# Load the BLAST output into a dataframe\n",
    "results = pd.read_csv(blastfile, sep=\"\\t\", header=None)\n",
    "results.columns = headers"
   ]
  },
  {
   "cell_type": "markdown",
   "metadata": {},
   "source": [
    "We can now inspect the first few rows of the dataframe, to see what the best hits were in the reference genome:"
   ]
  },
  {
   "cell_type": "code",
   "execution_count": 9,
   "metadata": {},
   "outputs": [
    {
     "data": {
      "text/html": [
       "<div>\n",
       "<table border=\"1\" class=\"dataframe\">\n",
       "  <thead>\n",
       "    <tr style=\"text-align: right;\">\n",
       "      <th></th>\n",
       "      <th>query</th>\n",
       "      <th>subject</th>\n",
       "      <th>pc_identity</th>\n",
       "      <th>aln_length</th>\n",
       "      <th>mismatches</th>\n",
       "      <th>gaps_opened</th>\n",
       "      <th>query_start</th>\n",
       "      <th>query_end</th>\n",
       "      <th>subject_start</th>\n",
       "      <th>subject_end</th>\n",
       "      <th>e_value</th>\n",
       "      <th>bitscore</th>\n",
       "    </tr>\n",
       "  </thead>\n",
       "  <tbody>\n",
       "    <tr>\n",
       "      <th>0</th>\n",
       "      <td>candidate</td>\n",
       "      <td>CAR42190.1</td>\n",
       "      <td>95.122</td>\n",
       "      <td>287</td>\n",
       "      <td>14</td>\n",
       "      <td>0</td>\n",
       "      <td>1</td>\n",
       "      <td>861</td>\n",
       "      <td>1</td>\n",
       "      <td>287</td>\n",
       "      <td>0.00</td>\n",
       "      <td>567.0</td>\n",
       "    </tr>\n",
       "    <tr>\n",
       "      <th>1</th>\n",
       "      <td>candidate</td>\n",
       "      <td>CAR41557.1</td>\n",
       "      <td>28.947</td>\n",
       "      <td>76</td>\n",
       "      <td>44</td>\n",
       "      <td>3</td>\n",
       "      <td>598</td>\n",
       "      <td>795</td>\n",
       "      <td>93</td>\n",
       "      <td>168</td>\n",
       "      <td>0.59</td>\n",
       "      <td>28.1</td>\n",
       "    </tr>\n",
       "    <tr>\n",
       "      <th>2</th>\n",
       "      <td>candidate</td>\n",
       "      <td>CAR45487.1</td>\n",
       "      <td>34.043</td>\n",
       "      <td>47</td>\n",
       "      <td>31</td>\n",
       "      <td>0</td>\n",
       "      <td>235</td>\n",
       "      <td>375</td>\n",
       "      <td>131</td>\n",
       "      <td>177</td>\n",
       "      <td>0.78</td>\n",
       "      <td>27.7</td>\n",
       "    </tr>\n",
       "    <tr>\n",
       "      <th>3</th>\n",
       "      <td>candidate</td>\n",
       "      <td>CAR42262.1</td>\n",
       "      <td>43.478</td>\n",
       "      <td>23</td>\n",
       "      <td>13</td>\n",
       "      <td>0</td>\n",
       "      <td>727</td>\n",
       "      <td>795</td>\n",
       "      <td>191</td>\n",
       "      <td>213</td>\n",
       "      <td>1.60</td>\n",
       "      <td>26.9</td>\n",
       "    </tr>\n",
       "    <tr>\n",
       "      <th>4</th>\n",
       "      <td>candidate</td>\n",
       "      <td>CAR42804.1</td>\n",
       "      <td>32.258</td>\n",
       "      <td>31</td>\n",
       "      <td>21</td>\n",
       "      <td>0</td>\n",
       "      <td>721</td>\n",
       "      <td>813</td>\n",
       "      <td>33</td>\n",
       "      <td>63</td>\n",
       "      <td>3.10</td>\n",
       "      <td>24.3</td>\n",
       "    </tr>\n",
       "  </tbody>\n",
       "</table>\n",
       "</div>"
      ],
      "text/plain": [
       "       query     subject  pc_identity  aln_length  mismatches  gaps_opened  \\\n",
       "0  candidate  CAR42190.1       95.122         287          14            0   \n",
       "1  candidate  CAR41557.1       28.947          76          44            3   \n",
       "2  candidate  CAR45487.1       34.043          47          31            0   \n",
       "3  candidate  CAR42262.1       43.478          23          13            0   \n",
       "4  candidate  CAR42804.1       32.258          31          21            0   \n",
       "\n",
       "   query_start  query_end  subject_start  subject_end  e_value  bitscore  \n",
       "0            1        861              1          287     0.00     567.0  \n",
       "1          598        795             93          168     0.59      28.1  \n",
       "2          235        375            131          177     0.78      27.7  \n",
       "3          727        795            191          213     1.60      26.9  \n",
       "4          721        813             33           63     3.10      24.3  "
      ]
     },
     "execution_count": 9,
     "metadata": {},
     "output_type": "execute_result"
    }
   ],
   "source": [
    "# Show first few rows of the dataframe\n",
    "results.head()"
   ]
  },
  {
   "cell_type": "markdown",
   "metadata": {},
   "source": [
    "There is a single best match - `CAR42190.1` - that aligns over the full length of the candidate sequence (`861/3 = 287`) with 95% identity and 14 residue mismatches.\n",
    "\n",
    "It is very likely that this protein shares the same molecular and metabolic function as our candidate sequence, so we proceed to query the `UniProt` and `KEGG` databases."
   ]
  }
 ],
 "metadata": {
  "kernelspec": {
   "display_name": "Python 3 (SfAM)",
   "language": "python",
   "name": "python3_sfam"
  },
  "language_info": {
   "codemirror_mode": {
    "name": "ipython",
    "version": 3
   },
   "file_extension": ".py",
   "mimetype": "text/x-python",
   "name": "python",
   "nbconvert_exporter": "python",
   "pygments_lexer": "ipython3",
   "version": "3.6.0"
  }
 },
 "nbformat": 4,
 "nbformat_minor": 2
}
