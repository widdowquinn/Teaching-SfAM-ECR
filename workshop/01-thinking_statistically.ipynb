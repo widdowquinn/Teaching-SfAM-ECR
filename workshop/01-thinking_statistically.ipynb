{
 "cells": [
  {
   "cell_type": "markdown",
   "metadata": {},
   "source": [
    "<img src=\"images/JHI_STRAP_Web.png\" style=\"width: 150px; float: right;\">\n",
    "# 01 - Thinking Statistically (30min)"
   ]
  },
  {
   "cell_type": "markdown",
   "metadata": {},
   "source": [
    "## Table of Contents\n",
    "\n",
    "1. [Introduction](#introduction)\n",
    "2. [Correlations](#correlations)\n",
    "3. [Classifiers](#classifiers)"
   ]
  },
  {
   "cell_type": "markdown",
   "metadata": {},
   "source": [
    "<a id=\"introduction\"></a>\n",
    "## 1. Introduction\n",
    "\n",
    "<p></p><div class=\"alert-success\">\n",
    "<b>in this notebook, we will consider practical examples in three topics often found in modern biology where *statistical thinking* can help you avoid common mistakes that can potentially undermine your research.</b>\n",
    "</div>\n",
    "\n",
    "Modern biology is increasingly quantitative. Next-generation sequencing data is increasingly important and ubiquitous. Large-scale sampling and image acquisition are more frequent drivers of experimental understanding of systems. A greater proportion of practical biology - and especially computational biology - now involves managing, integrating and, above all, *understanding* larger datasets than have previously been available to biologists.\n",
    "\n",
    "Large datasets have different properties to small datasets, and this can easily lead the unwary astray. Developing an intuition for the properties of large datasets is more important than ever."
   ]
  },
  {
   "cell_type": "markdown",
   "metadata": {},
   "source": [
    "<a id=\"correlations\"></a>\n",
    "## 2. Correlations (15min)\n",
    "\n",
    "Please click on the link below to start the `Correlations` notebook.\n",
    "\n",
    "* [01a-Correlations](01a-correlations.ipynb)"
   ]
  },
  {
   "cell_type": "markdown",
   "metadata": {},
   "source": [
    "<a id=\"classifiers\"></a>\n",
    "## 3. Classifiers (15min)\n",
    "\n",
    "Please click on the link below to start the `Classifiers` notebook.\n",
    "\n",
    "* [01b-Classifiers](01b-classifiers.ipynb)"
   ]
  }
 ],
 "metadata": {
  "kernelspec": {
   "display_name": "Python 3 (SfAM)",
   "language": "python",
   "name": "python3_sfam"
  },
  "language_info": {
   "codemirror_mode": {
    "name": "ipython",
    "version": 3
   },
   "file_extension": ".py",
   "mimetype": "text/x-python",
   "name": "python",
   "nbconvert_exporter": "python",
   "pygments_lexer": "ipython3",
   "version": "3.6.0"
  }
 },
 "nbformat": 4,
 "nbformat_minor": 2
}
