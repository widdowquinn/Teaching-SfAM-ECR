{
 "cells": [
  {
   "cell_type": "markdown",
   "metadata": {},
   "source": [
    "<img src=\"images/JHI_STRAP_Web.png\" style=\"width: 150px; float: right;\">\n",
    "# 01 - Thinking Statistically (25min)"
   ]
  },
  {
   "cell_type": "markdown",
   "metadata": {},
   "source": [
    "## Table of Contents\n",
    "\n",
    "1. [Introduction](#introduction)\n",
    "2. [Correlations](#correlations)\n",
    "3. [Classifiers](#classifiers)\n",
    "2. [Damn and `BLAST`](#blast)"
   ]
  },
  {
   "cell_type": "markdown",
   "metadata": {},
   "source": [
    "<a id=\"introduction\"></a>\n",
    "## 1. Introduction\n",
    "\n",
    "<p></p><div class=\"alert-success\">\n",
    "<b>in this notebook, we will consider practical examples in three topics often found in modern biology where *statistical thinking* can help you avoid common mistakes that can potentially undermine your research.</b>\n",
    "</div>\n",
    "\n",
    "Modern biology is increasingly quantitative. Next-generation sequencing data is increasingly important and ubiquitous. Large-scale sampling and image acquisition are more frequent drivers of experimental understanding of systems. A greater proportion of practical biology - and especially computational biology - now involves managing, integrating and, above all, *understanding* larger datasets than have previously been available to biologists.\n",
    "\n",
    "Large datasets have different properties to small datasets, and this can easily lead the unwary astray. Developing an intuition for the properties of large datasets is more important than ever."
   ]
  },
  {
   "cell_type": "markdown",
   "metadata": {},
   "source": [
    "<a id=\"correlations\"></a>\n",
    "## 2. Correlations (10min)\n",
    "\n",
    "### Biological motivation\n",
    "\n",
    "You have been given a dataset of transcript levels (e.g. RNAseq, microarray, qRT-PCR) for two genes in your organism of interest. These transcript levels have been measured over 11 timepoints. You would like to know whether those genes are coregulated or not.\n",
    "\n",
    "<img src=\"images/exercise.png\" style=\"width: 50px; float: left;\">\n",
    "### QUESTION:  (2min)\n",
    "\n",
    "<p></p><div class=\"alert-danger\">\n",
    "<b>How can you determine whether two genes are coregulated from transcript data?</b>\n",
    "<p></p>\n",
    "<b>What is the distinction between coregulation and <i>correlated expression</i>?</b>\n",
    "</div>"
   ]
  },
  {
   "cell_type": "markdown",
   "metadata": {},
   "source": [
    "### Dataset\n",
    "\n",
    "<p></p><div class=\"alert-success\">\n",
    "<b>The `Code` cell below contains Python code that will load your dataset.</b>\n",
    "</div>\n",
    "\n",
    "You will have been assigned a letter: **A**, **B**, **C**, or **D** as part of the workshop. Please enter this letter in the first line of Python code, so that you are working with the appropriate dataset:\n",
    "\n",
    "```python\n",
    "# Define your group, for this exercise\n",
    "mygroup = \"A\"  # <- change the letter in quotes\n",
    "```\n",
    "\n",
    "and then ***execute the cell*** with `Ctrl-Enter` or `Shift-Enter`. This will load the exercise data into a *variable* called `expn`."
   ]
  },
  {
   "cell_type": "code",
   "execution_count": 6,
   "metadata": {},
   "outputs": [
    {
     "data": {
      "text/html": [
       "<div>\n",
       "<table border=\"1\" class=\"dataframe\">\n",
       "  <thead>\n",
       "    <tr style=\"text-align: right;\">\n",
       "      <th></th>\n",
       "      <th>gene1</th>\n",
       "      <th>gene2</th>\n",
       "    </tr>\n",
       "  </thead>\n",
       "  <tbody>\n",
       "    <tr>\n",
       "      <th>0</th>\n",
       "      <td>10</td>\n",
       "      <td>8.04</td>\n",
       "    </tr>\n",
       "    <tr>\n",
       "      <th>1</th>\n",
       "      <td>8</td>\n",
       "      <td>6.95</td>\n",
       "    </tr>\n",
       "    <tr>\n",
       "      <th>2</th>\n",
       "      <td>13</td>\n",
       "      <td>7.58</td>\n",
       "    </tr>\n",
       "    <tr>\n",
       "      <th>3</th>\n",
       "      <td>9</td>\n",
       "      <td>8.81</td>\n",
       "    </tr>\n",
       "    <tr>\n",
       "      <th>4</th>\n",
       "      <td>11</td>\n",
       "      <td>8.33</td>\n",
       "    </tr>\n",
       "  </tbody>\n",
       "</table>\n",
       "</div>"
      ],
      "text/plain": [
       "   gene1  gene2\n",
       "0     10   8.04\n",
       "1      8   6.95\n",
       "2     13   7.58\n",
       "3      9   8.81\n",
       "4     11   8.33"
      ]
     },
     "execution_count": 6,
     "metadata": {},
     "output_type": "execute_result"
    }
   ],
   "source": [
    "# Define your group, for this exercise\n",
    "mygroup = \"A\"  # <- change the letter in quotes\n",
    "\n",
    "# Import Python libraries\n",
    "import os               # This lets us interact with the operating system\n",
    "import pandas as pd     # This allows us to use dataframes\n",
    "import seaborn as sns   # This gives us pretty graphics options\n",
    "\n",
    "# Load the data\n",
    "datafile = os.path.join('data', 'correlations', mygroup, 'expn.tab')\n",
    "data = pd.read_csv(datafile, sep=\"\\t\")\n",
    "\n",
    "# Show the first few lines of the data\n",
    "data.head()"
   ]
  },
  {
   "cell_type": "markdown",
   "metadata": {},
   "source": [
    "After executing the `code` cell, you should see a table of values. The table has columns named **gene1** and **gene2**, and rows that are *indexed* starting at zero (it is typical in many programming languages to start counting at zero)."
   ]
  },
  {
   "cell_type": "markdown",
   "metadata": {},
   "source": [
    "### Summary statistics\n",
    "\n",
    "<p></p><div class=\"alert-success\">\n",
    "<b>It is always useful to get a quantitative overview of a new dataset by looking at some *bulk statistics*: the dataset's *mean*, *median*, *variance*, *standard deviation*, and minimum and maximum values.</b>\n",
    "</div>\n",
    "\n",
    "The data you loaded is in a `dataframe` (this behaves very much like `dataframe`s in the `R` language), and you can obtain summary statistics quite readily using the `.describe()` *method*.\n",
    "\n",
    "```python\n",
    "# Show summary statistics of the dataframe\n",
    "data.describe()\n",
    "```\n",
    "\n",
    "<p></p><div class=\"alert-danger\">\n",
    "<b>Use the `.describe()` method to obtain summary statistics for your data in the cell below</b>\n",
    "</div>"
   ]
  },
  {
   "cell_type": "code",
   "execution_count": 8,
   "metadata": {},
   "outputs": [
    {
     "data": {
      "text/html": [
       "<div>\n",
       "<table border=\"1\" class=\"dataframe\">\n",
       "  <thead>\n",
       "    <tr style=\"text-align: right;\">\n",
       "      <th></th>\n",
       "      <th>gene1</th>\n",
       "      <th>gene2</th>\n",
       "    </tr>\n",
       "  </thead>\n",
       "  <tbody>\n",
       "    <tr>\n",
       "      <th>count</th>\n",
       "      <td>11.000000</td>\n",
       "      <td>11.000000</td>\n",
       "    </tr>\n",
       "    <tr>\n",
       "      <th>mean</th>\n",
       "      <td>9.000000</td>\n",
       "      <td>7.500909</td>\n",
       "    </tr>\n",
       "    <tr>\n",
       "      <th>std</th>\n",
       "      <td>3.316625</td>\n",
       "      <td>2.031568</td>\n",
       "    </tr>\n",
       "    <tr>\n",
       "      <th>min</th>\n",
       "      <td>4.000000</td>\n",
       "      <td>4.260000</td>\n",
       "    </tr>\n",
       "    <tr>\n",
       "      <th>25%</th>\n",
       "      <td>6.500000</td>\n",
       "      <td>6.315000</td>\n",
       "    </tr>\n",
       "    <tr>\n",
       "      <th>50%</th>\n",
       "      <td>9.000000</td>\n",
       "      <td>7.580000</td>\n",
       "    </tr>\n",
       "    <tr>\n",
       "      <th>75%</th>\n",
       "      <td>11.500000</td>\n",
       "      <td>8.570000</td>\n",
       "    </tr>\n",
       "    <tr>\n",
       "      <th>max</th>\n",
       "      <td>14.000000</td>\n",
       "      <td>10.840000</td>\n",
       "    </tr>\n",
       "  </tbody>\n",
       "</table>\n",
       "</div>"
      ],
      "text/plain": [
       "           gene1      gene2\n",
       "count  11.000000  11.000000\n",
       "mean    9.000000   7.500909\n",
       "std     3.316625   2.031568\n",
       "min     4.000000   4.260000\n",
       "25%     6.500000   6.315000\n",
       "50%     9.000000   7.580000\n",
       "75%    11.500000   8.570000\n",
       "max    14.000000  10.840000"
      ]
     },
     "execution_count": 8,
     "metadata": {},
     "output_type": "execute_result"
    }
   ],
   "source": [
    "# Show summary statistics of the dataframe\n",
    "data.describe()"
   ]
  },
  {
   "cell_type": "markdown",
   "metadata": {},
   "source": [
    "### Correlations\n",
    "\n",
    "<p></p><div class=\"alert-success\">\n",
    "<b>We have decided that, as a way of identifying potentially coregulated genes, we will lok for *correlated expression* between `gene1` and `gene2`</b>\n",
    "</div>\n",
    "\n",
    "The `dataframe` provides another *method* that reports the (Pearson) correlation coefficient between the columns of the dataset:\n",
    "\n",
    "```python\n",
    "# Show the Pearson correlation coefficients between columns in the dataset\n",
    "data.corr()\n",
    "```\n",
    "\n",
    "<p></p><div class=\"alert-danger\">\n",
    "<b>Use the `.corr()` method to obtain summary statistics for your data in the cell below</b>\n",
    "</div>"
   ]
  },
  {
   "cell_type": "code",
   "execution_count": 10,
   "metadata": {},
   "outputs": [
    {
     "data": {
      "text/html": [
       "<div>\n",
       "<table border=\"1\" class=\"dataframe\">\n",
       "  <thead>\n",
       "    <tr style=\"text-align: right;\">\n",
       "      <th></th>\n",
       "      <th>gene1</th>\n",
       "      <th>gene2</th>\n",
       "    </tr>\n",
       "  </thead>\n",
       "  <tbody>\n",
       "    <tr>\n",
       "      <th>gene1</th>\n",
       "      <td>1.000000</td>\n",
       "      <td>0.816421</td>\n",
       "    </tr>\n",
       "    <tr>\n",
       "      <th>gene2</th>\n",
       "      <td>0.816421</td>\n",
       "      <td>1.000000</td>\n",
       "    </tr>\n",
       "  </tbody>\n",
       "</table>\n",
       "</div>"
      ],
      "text/plain": [
       "          gene1     gene2\n",
       "gene1  1.000000  0.816421\n",
       "gene2  0.816421  1.000000"
      ]
     },
     "execution_count": 10,
     "metadata": {},
     "output_type": "execute_result"
    }
   ],
   "source": [
    "# Show the Pearson correlation coefficients between columns in the dataset\n",
    "data.corr()"
   ]
  },
  {
   "cell_type": "markdown",
   "metadata": {},
   "source": [
    "You now have an estimate of whether these two genes are likely to be coregulated.\n",
    "\n",
    "<img src=\"images/exercise.png\" style=\"width: 50px; float: left;\">\n",
    "### QUESTION:  (2min)\n",
    "\n",
    "<p></p><div class=\"alert-danger\">\n",
    "<b>How strong do you think the evidence is that these two genes are coregulated?</b>\n",
    "</div>"
   ]
  },
  {
   "cell_type": "markdown",
   "metadata": {},
   "source": [
    "### Visualising Data\n",
    "\n",
    "<p></p><div class=\"alert-success\">\n",
    "<bIn addition to summary statistics, it is always useful to *visualise* your data, to inspect it for patterns and potential outliers, and to see whether it makes intuitive sense.</b>\n",
    "</div>\n",
    "\n",
    "The `dataframe` provides a group of methods that allow us to plot the data for **gene1** and **gene2** in various ways. You will use the `.plot.scatter()` method in the cell below to visualise the way in which their transcript levels vary together.\n",
    "\n",
    "<p></p><div class=\"alert-danger\">\n",
    "<b>Use the `.plot.scatter()` method to visualise your data in the cell below</b>\n",
    "</div>"
   ]
  },
  {
   "cell_type": "code",
   "execution_count": 19,
   "metadata": {},
   "outputs": [
    {
     "name": "stdout",
     "output_type": "stream",
     "text": [
      "Populating the interactive namespace from numpy and matplotlib\n"
     ]
    },
    {
     "data": {
      "image/png": "[encoded data removed]",
      "text/plain": [
       "<matplotlib.figure.Figure at 0x113af4ef0>"
      ]
     },
     "metadata": {},
     "output_type": "display_data"
    }
   ],
   "source": [
    "# The line below allows plots to be rendered in the notebook\n",
    "# This is very useful for literate programming, and for producing reports\n",
    "%pylab inline\n",
    "\n",
    "# Show a scatter plot of transcript levels for gene1 and gene2\n",
    "data.plot.scatter('gene1', 'gene2');"
   ]
  },
  {
   "cell_type": "markdown",
   "metadata": {},
   "source": [
    "<img src=\"images/exercise.png\" style=\"width: 50px; float: left;\">\n",
    "### QUESTION:  (2min)\n",
    "\n",
    "<p></p><div class=\"alert-danger\">\n",
    "<b>How strong do you think the evidence is that these two genes are coregulated?</b>\n",
    "</div>"
   ]
  },
  {
   "cell_type": "markdown",
   "metadata": {},
   "source": [
    "### Conclusions\n",
    "\n",
    "#### 1. Always Visualise Your Data\n",
    "\n",
    "Although your summary statistics looked promising (strong Pearson correlation coefficient), in some cases you will have seen that this single *point value* was misleading. You should always try to visualise your data in an appropriate way, so that you are not led astray by a single simple statstic (such as a *P*-value).\n",
    "\n",
    "#### 2. Correlation Does Not Imply Causation\n",
    "\n",
    "![Divorce rate in Maine correlates with *per capita* margarine consumption](images/divorce_margarine.png)\n",
    "\n",
    "This relationship has Pearson correlation coefficient of [**0.993**](http://tylervigen.com/view_correlation?id=1703)\n",
    "\n",
    "#### 3. In a Large Dataset, If You Look For Anything, You Will Find Something\n",
    "\n",
    "![Anyone cna do a PCA with fluorescent colors and make it look meaningful](images/twitter_pca.png)"
   ]
  },
  {
   "cell_type": "code",
   "execution_count": null,
   "metadata": {
    "collapsed": true
   },
   "outputs": [],
   "source": []
  }
 ],
 "metadata": {
  "kernelspec": {
   "display_name": "Python 3 (SfAM)",
   "language": "python",
   "name": "python3_sfam"
  },
  "language_info": {
   "codemirror_mode": {
    "name": "ipython",
    "version": 3
   },
   "file_extension": ".py",
   "mimetype": "text/x-python",
   "name": "python",
   "nbconvert_exporter": "python",
   "pygments_lexer": "ipython3",
   "version": "3.6.0"
  }
 },
 "nbformat": 4,
 "nbformat_minor": 2
}
