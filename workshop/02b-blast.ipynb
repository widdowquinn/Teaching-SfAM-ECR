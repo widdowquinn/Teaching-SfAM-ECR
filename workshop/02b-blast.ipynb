{
 "cells": [
  {
   "cell_type": "markdown",
   "metadata": {},
   "source": [
    "<img src=\"images/JHI_STRAP_Web.png\" style=\"width: 150px; float: right;\">\n",
    "# 02b - Using NCBI `BLAST+` Service  with Biopython"
   ]
  },
  {
   "cell_type": "markdown",
   "metadata": {},
   "source": [
    "## Learning Outcomes\n",
    "\n",
    "* Use of `NCBI` remote `BLAST+` using Python and Biopython in the Jupyter notebook\n",
    "* Creating a remote `BLAST+` query, and its connection to running a `BLAST+` search on the server\n",
    "* Reading `BLAST+` output from the `NCBI` server into a Python variable\n",
    "* Using Entrez queries to customise your remote search\n",
    "* Computational analysis and visualisation of `BLAST+` output"
   ]
  },
  {
   "cell_type": "markdown",
   "metadata": {},
   "source": [
    "## Table of Contents\n",
    "\n",
    "1. [Introduction](#introduction)\n",
    "2. [Python imports](#imports)\n",
    "3. [Running and analysing a remote `BLASTX` search](#blastx)\n",
    "  1. [Load Query Sequence](#sequence)\n",
    "  2. [Using Entrez queries to modify the remote database](#entrez)\n",
    "  3. [Run `BLASTX`](#runblastx)\n",
    "  4. [Save `BLASTX` Results To File](#save)\n",
    "4. [Automating a remote `BLASTX` search](#automate)"
   ]
  },
  {
   "cell_type": "markdown",
   "metadata": {},
   "source": [
    "<a id=\"introduction\"></a>\n",
    "## 1. Introduction\n",
    "\n",
    "<p></p>\n",
    "<div class=\"alert-success\">\n",
    "<b>This notebook presents examples of methods for using `BLAST` programmatically, with the webservice provided by NCBI. This can be used to automate your `BLAST` searches, so that you don't need to point-and-click your way through the `NCBI` website.\n",
    "<p></p>\n",
    "All calculations are run on NCBI's servers, using NCBI's databases (not a local `BLAST` installation), but you are controlling the search using `Python` code in this notebook.</b>\n",
    "</div>\n",
    "\n",
    "There are advantages to using a programmatic interface for remote BLAST queries:\n",
    "\n",
    "* It is easy to set up repeatable searches for many sequences, or collections of sequences\n",
    "* It is easy to read in the search results and conduct downstream analyses that add value to your search\n",
    "\n",
    "Where it is impractical to submit a large number of similar queries via a web form (because it is tiresome to point-and-click over and over again), this can be handled programmatically instead. \n",
    "\n",
    "You have the opportunity to change custom options to help refine your query, just as in the website interface. \n",
    "\n",
    "If you need to repeat a query, it can be trivial to get the same settings every time, if you use a programmatic approach."
   ]
  },
  {
   "cell_type": "markdown",
   "metadata": {},
   "source": [
    "<a id=\"imports\"></a>\n",
    "## 2. Python imports\n",
    "\n",
    "<p></p>\n",
    "<div class=\"alert-success\">\n",
    "<b>To interact with the NCBI's `BLAST` service, we will use the free `Biopython` programming tools. These provide an interface to interact with NCBI's `BLAST` server, run jobs, and to retrieve the output files.</b>\n",
    "</div>\n",
    "\n",
    "We import these tools, and some standard library packages for working with files (`os`) below, in the same way we imported Python libraries elsewhere in the workshop."
   ]
  },
  {
   "cell_type": "code",
   "execution_count": 1,
   "metadata": {},
   "outputs": [
    {
     "name": "stdout",
     "output_type": "stream",
     "text": [
      "Populating the interactive namespace from numpy and matplotlib\n"
     ]
    }
   ],
   "source": [
    "# Import Python libraries\n",
    "%pylab inline\n",
    "\n",
    "import os                      # This lets us interact with the operating system\n",
    "\n",
    "from Bio import SeqIO          # This lets us handle reading/writing sequence data\n",
    "from Bio.Blast import NCBIWWW  # This lets us run remote BLAST searches"
   ]
  },
  {
   "cell_type": "markdown",
   "metadata": {},
   "source": [
    "<a id=\"blastx\"></a>\n",
    "## 3. Running and analysing a remote BLASTX search\n",
    "\n",
    "<p></p>\n",
    "<div class=\"alert-success\">\n",
    "<b>You will run a `BLASTX` search, querying a nucleotide sequence against a protein database, to identify potential homologues. What is different about this search is that you will be conducting it at NCBI, using `Python` code running on your machine (or in the cloud).</b>\n",
    "</div>\n",
    "\n",
    "You will use `Biopython` in the code blocks below to perform a `BLASTX` search - this will query a penicillin-binding protein from *Kitasatospora* against a restricted subset of the `nr` database - and write the results to file."
   ]
  },
  {
   "cell_type": "markdown",
   "metadata": {},
   "source": [
    "<p></p>\n",
    "<div class=\"alert-info\">\n",
    "<b>Running a remote `BLAST` search with `Biopython` is, in some ways, simpler than running a local `BLAST` query. The key steps are:</b>\n",
    "</div>\n",
    "\n",
    "1. Read the query sequence(s) from a source (possibly a local file, but maybe a remote database)\n",
    "2. Run a remote job with the `NCBIWWW.qblast()` method, specifying your query sequence, database, and `BLAST` program\n",
    "3. Parse the output you get back from NCBI\n",
    "\n",
    "To run the remote job, you need the same kind of information as if you were running `BLAST` via the web interface - these arguments are compulsory:\n",
    "\n",
    "* the `BLAST` program to use\n",
    "* query sequence(s) to search with\n",
    "* the database to search in\n",
    "\n",
    "but you can provide some extra choices when you run the remote job, including restricting the remote search on the basis of taxonomy - which we will do here."
   ]
  },
  {
   "cell_type": "markdown",
   "metadata": {},
   "source": [
    "<a id=\"sequence\"></a>\n",
    "### A. Load Query Sequence\n",
    "\n",
    "<p></p><div class=\"alert-success\">\n",
    "<b>Firstly, you will need a query sequence for the search.</b>\n",
    "<br></br><br></br>\n",
    "You will load the sequence for a penicillin-binding protein, reading it from a local `FASTA` file, using `Biopython's` `SeqIO()` module.\n",
    "</div>\n",
    "\n",
    "<p></p>\n",
    "<div class=\"alert-warning\">\n",
    "<b>When data such as biological sequences are read in, their metadata - information on database IDs, and other features - follows them. `Biopython` does a nice job of showing us this information if we look at it with the `print()` function:</b>\n",
    "</div>"
   ]
  },
  {
   "cell_type": "code",
   "execution_count": 2,
   "metadata": {},
   "outputs": [
    {
     "name": "stdout",
     "output_type": "stream",
     "text": [
      "ID: lcl|LISX01000001.1_cds_OKJ16671.1_31\n",
      "Name: lcl|LISX01000001.1_cds_OKJ16671.1_31\n",
      "Description: lcl|LISX01000001.1_cds_OKJ16671.1_31 [locus_tag=AMK19_00175] [protein=penicillin-binding protein] [protein_id=OKJ16671.1] [location=39730..41184]\n",
      "Number of features: 0\n",
      "Seq('GTGAACAAGCCGATCCGCCGGGTGTCGATCTTCTGCCTGGTCCTGATCCTGGCC...TAG', SingleLetterAlphabet())\n"
     ]
    }
   ],
   "source": [
    "# Define path to data directory\n",
    "datadir = os.path.join(\"data\", \"blast\")\n",
    "\n",
    "# Load sequence of penicillin-binding protein, and inspect the information\n",
    "seqfile = os.path.join(datadir, \"k_sp_CB01950_penicillin.fasta\")\n",
    "seq = SeqIO.read(seqfile, \"fasta\")\n",
    "print(seq)"
   ]
  },
  {
   "cell_type": "markdown",
   "metadata": {},
   "source": [
    "<div class=\"alert-warning\">\n",
    "<b>However, the remote `BLAST` server requires us to present our sequence in `FASTA` format!</b>\n",
    "</div>\n",
    "\n",
    "<p></p><div class=\"alert-info\">\n",
    "One of the clever things about `Biopython`'s sequence objects - and a big advantage of using programmatic approaches - is that we can readily convert our sequence information into a number of different formats.\n",
    "<br></br><br></br>\n",
    "To do this, we can use the sequence's `.format()` method to produce a `FASTA`-formatted string.\n",
    "</div>\n",
    "\n",
    "Doing this does not change the original sequence or its information in any way, but it creates a new presentation of that data, which we can use as our query:"
   ]
  },
  {
   "cell_type": "code",
   "execution_count": 3,
   "metadata": {},
   "outputs": [
    {
     "name": "stdout",
     "output_type": "stream",
     "text": [
      ">lcl|LISX01000001.1_cds_OKJ16671.1_31 [locus_tag=AMK19_00175] [protein=penicillin-binding protein] [protein_id=OKJ16671.1] [location=39730..41184]\n",
      "GTGAACAAGCCGATCCGCCGGGTGTCGATCTTCTGCCTGGTCCTGATCCTGGCCCTGATG\n",
      "CTCCGGGTGAACTGGGTGCAGGGCGTTCAGGCGTCGACGTGGGCCAACAACCCGCACAAC\n",
      "GACCGCACCAAGTACGACAAGTACGCCTACCCGCGCGGCAACATCATCGTCGGCGGCCAG\n",
      "GCCGTCACCAAGTCCGACTTCGTCAACGGGCTGCGCTACAAGTACAAGCGCTCCTGGGTG\n",
      "GACGGGCCGATGTACGCGCCGGTCACCGGCTACTCCTCGCAGACGTACGACGCCAGCCAG\n",
      "CTGGAGAAGCTGGAGGACGGCATCCTCTCCGGCACCGACTCGCGGCTGTTCTTCCGCAAC\n",
      "ACCCTGGACATGCTGACCGGCAAGCCCAAGCAGGGCGGCGACGTGGTCACCACCATCGAC\n",
      "CCCAAGGTGCAGAAGGCCGGCTTCGAGGGGCTCGGCAACAAGAAGGGCGCCGCGGTCGCC\n",
      "ATCGACCCGAAGACCGGGGCGATCCTCGGGCTGGTCTCCACCCCGTCCTACGACCCGGGC\n",
      "ACCTTCGCGGGCGGCACCAAGGACGACGAGAAGGCCTGGACGGCACTCGACAGCGACCCG\n",
      "AACAAGCCGATGCTGAACCGGGCGCTGCGCGAGACCTACCCGCCCGGCTCGACCTTCAAG\n",
      "CTGGTCACCGCGGCGACCGCGTTCGAGACCGGCAAGTACCAGAGCCCGTCGGACGTCACC\n",
      "GACACCCCGGACCAGTACATCCTGCCCGGCACCAGCACCCCGCTGATCAACGCCAGCCCC\n",
      "ACCGAGGACTGCGGGAACGCCACCGTGCAACACGCGATGGACCTGTCCTGCAACACGGTG\n",
      "TTCGGCAAGATGGGCGCCGAGCTGGGCGGCGACAAGCTGCGGGCGCAGGCCGAGAAGTTC\n",
      "GGCTTCAACAAGGAAGTGACCATCCCGATCCGGGCCGACGCCAGCCACTTCCCGTCCGGC\n",
      "TCCAAGCCCGACGGCACCGCGATGGACGCGATCGGCCAGCACGACACCCGGGCCACCCCG\n",
      "CTGCAGATGGCCATGGTGGCCGCCGCGATCGCCAACAACGGCTCGCTGATGGAGCCCTAC\n",
      "CTGGTCGCCCAGGAGGGCTCGGCCGGGAACGTGATCTCCACCCACACCGAGCACCAGCTG\n",
      "TCGCAGGCGGTCTCGCCGGCCACCGCGCAGAAGCTCCAGCAGCTGATGGAGTCGGTGGTG\n",
      "CAGCACGGCACCGGCACGAACGCGAAGATCCCGGGCGTGACGGTCGGCGGCAAGACCGGC\n",
      "ACCGCCCAGCACGGCCAGGACAACTCGGGTCTGCCGTTCGCCTGGTTCGTCTCCTACGCC\n",
      "AAGGGCCAGGACGGCAAGCAGGTCGCCGTCGCGGTGGTGGTCGAGGACGGCTCCAGCGAG\n",
      "GCGCAGCAGATCTCCGGCGGCTCGCTGGCCGCGCCGATCGCCAAGGCGATGATGCAGGCG\n",
      "GCGCTCGGGAAGTAG\n",
      "\n"
     ]
    }
   ],
   "source": [
    "# We need the sequence as a string, so use the .format() method\n",
    "print(seq.format(\"fasta\"))"
   ]
  },
  {
   "cell_type": "markdown",
   "metadata": {},
   "source": [
    "<div class=\"alert-success\">\n",
    "<b>You are now almost ready to build your remote `BLAST` query</b>\n",
    "</div>\n",
    "\n",
    "<p></p><div class=\"alert-info\">\n",
    "The last two things you need to do are to consider the database we're going to search against, and the format you want the data returned in.\n",
    "</div>"
   ]
  },
  {
   "cell_type": "markdown",
   "metadata": {},
   "source": [
    "<a id=\"entrez\"></a>\n",
    "### B. Using Entrez queries to modify the remote database\n",
    "\n",
    "<p></p>\n",
    "<div class=\"alert-success\">\n",
    "`NCBI` provide a service called `Entrez E-Utilities` which allows for complex text-based searches to be defined. A detailed consideration of this very powerful tool is beyond the scope of this workshop, but we will use the service to replicate the `Organism` field of the NCBI web browser interface that allows us to restrict the `nr` database only to sequences from a particular taxon.\n",
    "</div>\n",
    "\n",
    "The remote NCBI `BLAST+` service provides large, comprehensive databases such as `nr`, `nt` and `refseq`, but it doesn't provide very many specialised databases. Searches against large databases - where you don't care about most of the sequences, and most of the sequences are unlikely to match - can be wasteful and take longer than necessary to get the useful answer you're looking for. But a smaller, specialised organism-centric database - which would be much quicker to search - may not exist separately."
   ]
  },
  {
   "cell_type": "markdown",
   "metadata": {},
   "source": [
    "If you were using the NCBI website to carry out this `BLAST` query, you could use the `Organism` field in the web browser interface to specify `Kitasatospora (taxid: 2063)` when querying against the complete `nr` database. This would have the effect of only querying against sequences in `nr` that originated from *Kitasatospora*, reducing the overall search time and giving you the relevant hits you needed without producing a very large set of output.\n",
    "\n",
    "* To perform a similar filtering of the search using `NCBIWWW.qblast()`, you need to specify the argument `entrez_query` in that function.\n",
    "* The value to be passed is a string that describes the search field you want to filter on.\n",
    "*There are many search field options (see the [list here](https://www.ncbi.nlm.nih.gov/books/NBK49540/)), but we will use only one in this lesson: the `organism` field.\n",
    "\n",
    "<p></p>\n",
    "<div class=\"alert-warning\">\n",
    "<b>The `Entrez` query syntax is the same syntax that you would use in any browser-based NCBI database search, and is reported back to you when you refine searches at NCBI. Looking at that output is a good way to find interesting ways to slice large databases into smaller subsets of interest.</b>\n",
    "</div>"
   ]
  },
  {
   "cell_type": "markdown",
   "metadata": {},
   "source": [
    "#### The `organism` field `[ORGN]`\n",
    "\n",
    "The syntax for filtering on organism is `<value>[ORGN]` where `<value>` is the term you want to filter on. This can be the name of the organism, or an identifier such as the NCBI taxon ID."
   ]
  },
  {
   "cell_type": "markdown",
   "metadata": {},
   "source": [
    "<a id=\"runblastx\"></a>\n",
    "### C. Run `BLASTX`\n",
    "\n",
    "<p></p>\n",
    "<div class=\"alert-success\">\n",
    "In the cell below, the remote search is conducted on the `nr` database, but restricted only to the set of sequences originating from *Kitasatospora*, by specififying `entrez_query=\"kitasatospora[ORGN]\"`:\n",
    "</div>\n",
    "\n",
    "<p></p>\n",
    "<div class=\"alert-warning\">\n",
    "<b>Sometimes the remote `qblast` queries to NCBI do not run quickly!</b>\n",
    "</div>"
   ]
  },
  {
   "cell_type": "code",
   "execution_count": null,
   "metadata": {},
   "outputs": [],
   "source": [
    "# Perform the BLAST search on the nr database, restricted to Kitasatospora spp.\n",
    "result_handle = NCBIWWW.qblast(\"blastx\", \"nr\", seq.format(\"fasta\"),\n",
    "                               entrez_query=\"kitasatospora[ORGN]\",\n",
    "                               format_type=\"Text\")"
   ]
  },
  {
   "cell_type": "code",
   "execution_count": null,
   "metadata": {},
   "outputs": [],
   "source": [
    "# Show human-readable results\n",
    "output = result_handle.read()\n",
    "print(output)"
   ]
  },
  {
   "cell_type": "markdown",
   "metadata": {},
   "source": [
    "<a id=\"save\"></a>\n",
    "### D. Save `BLASTX` results to file\n",
    "\n",
    "<p></p><div class=\"alert-success\">\n",
    "The results you obtained above are human-readable, and similar to the default output type you saw from command-line/terminal `BLAST` in [notebook 02](02-blast_at_terminal.ipynb). \n",
    "<br></br><br></br>\n",
    "But, for now, they exist only in the variable called `output`. If we want to come back to these results at some time in the future, we will need to save them to a file somewhere.\n",
    "</div>\n",
    "\n",
    "This is a common operation in programmatic approaches to bioinformatics: once a result is obtained, we usually want to save it to a file. Most command-line programs will do this for you, but when working programmatically mostly you will need to save it explicitly, yourself.\n",
    "\n",
    "The Python code for saving the contents of `output` to the file `output/kitasatospora/remote_blastx_query_01.txt` is given in the cell below:"
   ]
  },
  {
   "cell_type": "code",
   "execution_count": null,
   "metadata": {
    "collapsed": true
   },
   "outputs": [],
   "source": [
    "# Make directory to save output, if it doesn't exist\n",
    "outdir = os.path.join(\"data\", \"blast\", \"output\")\n",
    "os.makedirs(outdir, exist_ok=True)\n",
    "\n",
    "# Save output to file\n",
    "outfilename = os.path.join(outdir, \"remote_blastx_query_01.txt\")\n",
    "with open(outfilename, 'w') as outfh:\n",
    "    outfh.write(output)"
   ]
  },
  {
   "cell_type": "markdown",
   "metadata": {},
   "source": [
    "This code does three main things:\n",
    "\n",
    "1. It creates a variable called `outfilename`, with the path to the file we want to write\n",
    "2. It opens that file, ready for writing, as a *handle* called `outfh`\n",
    "3. It writes the contents of `output` into the `outfh` *handle* (and then closes the *handle*)\n",
    "\n",
    "When this is done, the `BLAST` search results we got from NCBI are written to the file `data/blast/output/remote_blastx_query_01.txt`, just as though we did the search locally. You can inspect the contents of that file at the terminal using a command like:\n",
    "\n",
    "```bash\n",
    "cat data/blast/output/remote_blastx_query_01.txt\n",
    "```"
   ]
  },
  {
   "cell_type": "markdown",
   "metadata": {},
   "source": [
    "<div class=\"alert-info\">\n",
    "<b>A neat feature of the Jupyter notebook is the ability to run commands in `code` cells, as if you were working at a command-line terminal.\n",
    "<br></br><br></br>\n",
    "To do this, prefix the command you want to run with an exclamation mark</b>\n",
    "</div>"
   ]
  },
  {
   "cell_type": "code",
   "execution_count": null,
   "metadata": {},
   "outputs": [],
   "source": [
    "# Run a command in the shell\n",
    "!cat data/blast/output/remote_blastx_query_01.txt"
   ]
  },
  {
   "cell_type": "markdown",
   "metadata": {},
   "source": [
    "<a id=\"automate\"></a>\n",
    "## 4. Automating a remote `BLASTX` search\n",
    "\n",
    "### Biological Motivation\n",
    "\n",
    "<p></p><div class=\"alert-info\">\n",
    "<b>We would like to perform a `BLASTX` query with this penicillin-binding protein against a number of different taxa in `nr` to compare the results, using a definable E-value threshold, and inspect and compare the output.</b>\n",
    "</div>\n",
    "\n",
    "To do this, we can use the code in the cell below to create a `list` of organism/taxon names, and loop over that list, performing a new `BLASTX` query each time, and writing a new output file for each."
   ]
  },
  {
   "cell_type": "code",
   "execution_count": null,
   "metadata": {},
   "outputs": [],
   "source": [
    "# Make directory to save output, if it doesn't exist\n",
    "outdir = os.path.join(\"data\", \"blast\", \"output\")\n",
    "os.makedirs(outdir, exist_ok=True)\n",
    "\n",
    "# Define a list of taxa to search against\n",
    "taxa = ['corynebacterium', 'streptomyces', 'erwinia']\n",
    "\n",
    "# Loop over taxa and perform a BLASTX search for each\n",
    "for taxon in taxa:\n",
    "    print(\"Performing BLASTX search against NCBI nr, restricted to %s\" % taxon)\n",
    "    # Perform BLASTX search\n",
    "    result_handle = NCBIWWW.qblast(\"blastx\", \"nr\", seq.format(\"fasta\"),\n",
    "                               entrez_query=\"%s[ORGN]\" % taxon,\n",
    "                               format_type=\"Text\")\n",
    "    # Write output to file\n",
    "    outfilename = os.path.join(outdir, \"remote_blastx_query_%s.txt\" % taxon)\n",
    "    with open(outfilename, 'w') as outfh:\n",
    "        outfh.write(result_handle.read())"
   ]
  }
 ],
 "metadata": {
  "kernelspec": {
   "display_name": "Python 3 (SfAM)",
   "language": "python",
   "name": "python3_sfam"
  },
  "language_info": {
   "codemirror_mode": {
    "name": "ipython",
    "version": 3
   },
   "file_extension": ".py",
   "mimetype": "text/x-python",
   "name": "python",
   "nbconvert_exporter": "python",
   "pygments_lexer": "ipython3",
   "version": "3.6.0"
  }
 },
 "nbformat": 4,
 "nbformat_minor": 2
}
