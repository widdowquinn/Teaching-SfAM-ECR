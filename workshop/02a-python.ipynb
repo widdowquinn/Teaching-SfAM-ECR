{
 "cells": [
  {
   "cell_type": "markdown",
   "metadata": {},
   "source": [
    "<img src=\"images/JHI_STRAP_Web.png\" style=\"width: 150px; float: right;\">\n",
    "# 02 - Python Basics (10min)"
   ]
  },
  {
   "cell_type": "markdown",
   "metadata": {},
   "source": [
    "## Table of Contents\n",
    "\n",
    "1. [`Python` strings](#python_strings)\n",
    "2. [`Python` lists](#python_lists)\n",
    "3. [`Python` for-loops](#for_loops)\n",
    "4. [`Python` functions](#functions)"
   ]
  },
  {
   "cell_type": "markdown",
   "metadata": {},
   "source": [
    "<a id=\"python_strings\"></a>\n",
    "## 1. Strings\n",
    "\n",
    "<p></p><div class=\"alert-success\">\n",
    "<b>`Strings` are a common data type in programming languages. They are ordered collections of characters, and typically represent human-readable text</b>\n",
    "</div>\n",
    "\n",
    "* In `Python` strings are defined using double quotes or single quotes - it doesn't really matter but they have to match.\n",
    "* Strings can be added together (concatenated) with the `+` operation.\n",
    "\n",
    "```python\n",
    "# Assigning a string to a variable\n",
    "name = \"Hello\"\n",
    "\n",
    "# Concatenating and printing strings\n",
    "message = name + \" world!\"\n",
    "print(message)\n",
    "```"
   ]
  },
  {
   "cell_type": "code",
   "execution_count": null,
   "metadata": {},
   "outputs": [],
   "source": [
    "# Assigning a string to a variable\n",
    "\n",
    "# Concatenating and printing strings\n"
   ]
  },
  {
   "cell_type": "markdown",
   "metadata": {},
   "source": [
    "It is very common to want to combine strings together into longer text, often including numbers or other values. A widely used approach to string formatting is *percentage sign place holders*:\n",
    "\n",
    "- `%s` to insert a string\n",
    "- `%i` to insert an integer number\n",
    "- `%f` to insert a floating point number\n",
    "\n",
    "```python\n",
    "# Define a string\n",
    "name = \"Leighton\"\n",
    "\n",
    "# Use string formatting to place a string and an integer into another string\n",
    "message = \"Hello %s, your name has %i letters\" % (name, len(name))\n",
    "print(message)\n",
    "```\n",
    "\n",
    "```python\n",
    "# Define a numerical value\n",
    "my_value = 3\n",
    "\n",
    "# Represent the numeric value in two different formats\n",
    "print(\"This is an integer: %i\" % my_value)\n",
    "print(\"This is a floating point (real) number: %f\" % my_value)\n",
    "```\n",
    "\n",
    "(This convention was introduced in the C programming language, which was enormously influential in later programming language design, so this is seen in many different languages.)"
   ]
  },
  {
   "cell_type": "code",
   "execution_count": null,
   "metadata": {},
   "outputs": [],
   "source": [
    "# Define a string\n",
    "\n",
    "# Use string formatting to place a string and an integer into another string\n"
   ]
  },
  {
   "cell_type": "code",
   "execution_count": null,
   "metadata": {},
   "outputs": [],
   "source": [
    "# Define a numerical value\n",
    "\n",
    "# Represent the numeric value in two different formats\n"
   ]
  },
  {
   "cell_type": "markdown",
   "metadata": {},
   "source": [
    "<a id=\"python_lists\"></a>\n",
    "## 3. Lists\n",
    "\n",
    "<p></p><div class=\"alert-success\">\n",
    "<b>The Python `list` serves as a general purpose data structure for holding an *ordered* collection of values.</b>\n",
    "</div>\n",
    "\n",
    "* This is similar to an array in other languages, and is commonly used in conjunction with a `for` loop as shown later. \n",
    "* You can have `list`s of strings, `list`s of integers, etc. - and you can even mix types of data\n",
    "* The length of a list is defined as the number of elements in the list.\n",
    "\n",
    "```python\n",
    "# Create a list of strings\n",
    "names = [\"Peter\", \"Sue\", \"Leighton\"]\n",
    "print(len(names))\n",
    "```\n",
    "\n",
    "```python\n",
    "# Create a list of several data types\n",
    "things = [\"a name\", 3.5, names]\n",
    "print(things)\n",
    "```"
   ]
  },
  {
   "cell_type": "code",
   "execution_count": null,
   "metadata": {},
   "outputs": [],
   "source": [
    "# Create a list of strings\n"
   ]
  },
  {
   "cell_type": "code",
   "execution_count": null,
   "metadata": {},
   "outputs": [],
   "source": [
    "# Create a list of several data types\n"
   ]
  },
  {
   "cell_type": "markdown",
   "metadata": {},
   "source": [
    "<a id=\"for_loops\"></a>\n",
    "## 4. `for` loops\n",
    "\n",
    "<p></p><div class=\"alert-success\">\n",
    "<b>`for` loops are a very common programmatic way to iterate over a number of items in a sequence (and then do something with each item)</b>\n",
    "</div>\n",
    "\n",
    "* Most programming languages, including `Python`, have several ways to repeat a block of code multiple times.\n",
    "* Python's ``for`` loop works with a loop variable (`letter` in the example below) which takes in turn each of the values to be looped over (here the letters in the `string` variable `message`):\n",
    "\n",
    "```python\n",
    "# Create a string\n",
    "message = \"Hello world\"\n",
    "\n",
    "# Loop over each letter in the string and print it\n",
    "for letter in message:\n",
    "    print(letter)\n",
    "```"
   ]
  },
  {
   "cell_type": "code",
   "execution_count": null,
   "metadata": {},
   "outputs": [],
   "source": [
    "# Create a string\n",
    "\n",
    "# Loop over each letter in the string and print it\n"
   ]
  },
  {
   "cell_type": "markdown",
   "metadata": {},
   "source": [
    "Another common situation is to loop over a `list` of values:\n",
    "\n",
    "```python\n",
    "# Loop over a list and print each element\n",
    "for value in [\"alpha\", \"beta\", \"gamma\", \"delta\"]:\n",
    "    print(value)\n",
    "```"
   ]
  },
  {
   "cell_type": "code",
   "execution_count": null,
   "metadata": {},
   "outputs": [],
   "source": [
    "# Loop over a list and print each element\n"
   ]
  },
  {
   "cell_type": "markdown",
   "metadata": {},
   "source": [
    "Elsewhere in the workshop you'll see this syntax used with other constructs."
   ]
  },
  {
   "cell_type": "markdown",
   "metadata": {},
   "source": [
    "<a id=\"functions\"></a>\n",
    "## 5. Defining Functions\n",
    "\n",
    "<p></p><div class=\"alert-success\">\n",
    "<b>Often as your Python code gets longer you will find you repeat snippets of code.\n",
    "<br></br><br></br>\n",
    "It is usually best to turn the repeated code into a *function* which can be defined once and then used multiple times.</b>\n",
    "</div>\n",
    "\n",
    "* This reduces the amount of typing you have to do\n",
    "* It also reduces the opportunity for introducing mistakes through typos and other errors\n",
    "\n",
    "```python\n",
    "# The Python keyword def is short for 'define'\n",
    "# Here you are defining a function taking one argument\n",
    "def make_message(name):\n",
    "    length = len(name)\n",
    "    # Python keyword 'return' exits the function with this value:\n",
    "    return \"Hello %s, your name is %i characters long\" % (name, length)\n",
    "```"
   ]
  },
  {
   "cell_type": "code",
   "execution_count": null,
   "metadata": {},
   "outputs": [],
   "source": [
    "# The Python keyword def is short for 'define'\n",
    "# Here you are defining a function taking one argument\n",
    "\n",
    "\n",
    "# Make a message three times\n",
    "print(make_message(\"Peter\"))\n",
    "print(make_message(\"Sue\"))\n",
    "print(make_message(\"Leighton\"))"
   ]
  },
  {
   "cell_type": "markdown",
   "metadata": {},
   "source": [
    "<p><p><div class=\"alert-info\">\n",
    "`for` loops are very important for reducing duplicated code so in this example, rather than calling our function three times, we could do this:\n",
    "</div>\n",
    "\n",
    "```python\n",
    "# Assumes you've already executed the cells above which defined\n",
    "# the list 'names' and the function 'make_message'\n",
    "for name in names:\n",
    "    print(make_message(name))\n",
    "```"
   ]
  },
  {
   "cell_type": "code",
   "execution_count": null,
   "metadata": {},
   "outputs": [],
   "source": [
    "# Assumes you've already executed the cells above which defined\n",
    "# the list 'names' and the function 'make_message'\n"
   ]
  },
  {
   "cell_type": "markdown",
   "metadata": {},
   "source": [
    "* The examples we have shown so far are functions taking a single argument, but they can take multiple arguments. Even optional arguments are possible (not shown here). \n",
    "\n",
    "The example below is a function which requires two arguments, and we combine it with a `list` to make a rudimentary base frequency calculator:"
   ]
  },
  {
   "cell_type": "code",
   "execution_count": null,
   "metadata": {},
   "outputs": [],
   "source": [
    "# Define a function that returns the frequency with which\n",
    "# the character 'letter' occurs in the string 'text'\n",
    "def letter_frequency(text, letter):\n",
    "    return text.count(letter) / len(text)\n",
    "\n",
    "# This can be used as a rudimentary base frequency calculator\n",
    "sequence = \"AGTGACACAGGT\"\n",
    "for base in \"ACGT\":\n",
    "    print(\"Frequency of letter %s is %f\" % (base, letter_frequency(sequence, base)))"
   ]
  },
  {
   "cell_type": "markdown",
   "metadata": {},
   "source": [
    "<p><p><div class=\"alert-info\">\n",
    "This example also introduced something new for counting the letters in a string. `Python` strings have lots of *methods*, a special kind of `Python` function acting on the the object itself via this `.method(...)` syntax.\n",
    "</div>"
   ]
  },
  {
   "cell_type": "code",
   "execution_count": null,
   "metadata": {},
   "outputs": [],
   "source": [
    "# Examples of some methods of a string\n",
    "print(message.upper())\n",
    "print(message.lower())\n",
    "print(message.count(\"l\"))"
   ]
  },
  {
   "cell_type": "markdown",
   "metadata": {},
   "source": [
    "## 6. Resources\n",
    "\n",
    "<p><p><div class=\"alert-success\">\n",
    "<b>We've tried to introduce a minimum of concepts and syntax here.</b>\n",
    "</div>\n",
    "\n",
    "There are more `Python` examples throughout these notebooks, some using more advanced things (such as `with` statements). We don't have time to explain all the components of the language in detail, as we want to focus on the Bioinformatics instead, but some links are provided below as a starting point to learning other cool things about programming.\n",
    "\n",
    "* [Jupter Notebook Basics](http://jupyter-notebook.readthedocs.io/en/latest/examples/Notebook/Notebook%20Basics.html)\n",
    "* [Python](https://www.python.org)\n",
    "\n",
    " "
   ]
  }
 ],
 "metadata": {
  "kernelspec": {
   "display_name": "Python 3",
   "language": "python",
   "name": "python3"
  },
  "language_info": {
   "codemirror_mode": {
    "name": "ipython",
    "version": 3
   },
   "file_extension": ".py",
   "mimetype": "text/x-python",
   "name": "python",
   "nbconvert_exporter": "python",
   "pygments_lexer": "ipython3",
   "version": "3.5.2"
  }
 },
 "nbformat": 4,
 "nbformat_minor": 2
}
